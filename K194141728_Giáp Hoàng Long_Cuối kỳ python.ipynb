{
 "cells": [
  {
   "cell_type": "code",
   "execution_count": 742,
   "metadata": {},
   "outputs": [],
   "source": [
    "\n",
    "# !pip install binance \n",
    "\n",
    "from binance import Client\n",
    "import pandas as pd, numpy as np, matplotlib.pyplot as plt\n",
    "import mplfinance as mpf\n",
    "import math\n",
    "from statsmodels.tsa.arima_model import ARIMA\n",
    "from sklearn.metrics import mean_squared_error, mean_absolute_error\n",
    "\n",
    "import seaborn as sns\n",
    "from statsmodels.tsa.seasonal import seasonal_decompose\n",
    "from statsmodels.tsa.stattools import adfuller, kpss\n",
    "from statsmodels.graphics.tsaplots import plot_acf, plot_pacf\n",
    "\n",
    "import warnings\n",
    "warnings.filterwarnings('ignore')\n",
    "\n",
    "import scipy.stats as scs\n",
    "import statsmodels.api as sm\n",
    "\n",
    "# Set figsize of plot\n",
    "plt.rcParams[\"figure.figsize\"] = (20, 7)"
   ]
  },
  {
   "cell_type": "markdown",
   "metadata": {},
   "source": [
    "1.GET HISTORICAL DATA"
   ]
  },
  {
   "cell_type": "code",
   "execution_count": 743,
   "metadata": {},
   "outputs": [
    {
     "data": {
      "text/html": [
       "<div>\n",
       "<style scoped>\n",
       "    .dataframe tbody tr th:only-of-type {\n",
       "        vertical-align: middle;\n",
       "    }\n",
       "\n",
       "    .dataframe tbody tr th {\n",
       "        vertical-align: top;\n",
       "    }\n",
       "\n",
       "    .dataframe thead th {\n",
       "        text-align: right;\n",
       "    }\n",
       "</style>\n",
       "<table border=\"1\" class=\"dataframe\">\n",
       "  <thead>\n",
       "    <tr style=\"text-align: right;\">\n",
       "      <th></th>\n",
       "      <th>0</th>\n",
       "      <th>1</th>\n",
       "      <th>2</th>\n",
       "      <th>3</th>\n",
       "      <th>4</th>\n",
       "      <th>5</th>\n",
       "      <th>6</th>\n",
       "      <th>7</th>\n",
       "      <th>8</th>\n",
       "      <th>9</th>\n",
       "      <th>10</th>\n",
       "      <th>11</th>\n",
       "    </tr>\n",
       "  </thead>\n",
       "  <tbody>\n",
       "    <tr>\n",
       "      <th>0</th>\n",
       "      <td>1597708800000</td>\n",
       "      <td>2.09000000</td>\n",
       "      <td>4.44000000</td>\n",
       "      <td>2.00000000</td>\n",
       "      <td>3.10000000</td>\n",
       "      <td>6039881.97000000</td>\n",
       "      <td>1597795199999</td>\n",
       "      <td>18375373.39233600</td>\n",
       "      <td>22593</td>\n",
       "      <td>3458952.50000000</td>\n",
       "      <td>10596741.99470400</td>\n",
       "      <td>0</td>\n",
       "    </tr>\n",
       "    <tr>\n",
       "      <th>1</th>\n",
       "      <td>1597795200000</td>\n",
       "      <td>3.10000000</td>\n",
       "      <td>3.19990000</td>\n",
       "      <td>2.64000000</td>\n",
       "      <td>2.95000000</td>\n",
       "      <td>15895774.92000000</td>\n",
       "      <td>1597881599999</td>\n",
       "      <td>47558321.63325400</td>\n",
       "      <td>75075</td>\n",
       "      <td>9037381.99000000</td>\n",
       "      <td>27152372.22780000</td>\n",
       "      <td>0</td>\n",
       "    </tr>\n",
       "    <tr>\n",
       "      <th>2</th>\n",
       "      <td>1597881600000</td>\n",
       "      <td>2.94490000</td>\n",
       "      <td>3.11110000</td>\n",
       "      <td>2.60000000</td>\n",
       "      <td>2.90000000</td>\n",
       "      <td>11040863.60000000</td>\n",
       "      <td>1597967999999</td>\n",
       "      <td>31457410.86681700</td>\n",
       "      <td>53797</td>\n",
       "      <td>5189595.84000000</td>\n",
       "      <td>14890085.87234500</td>\n",
       "      <td>0</td>\n",
       "    </tr>\n",
       "    <tr>\n",
       "      <th>3</th>\n",
       "      <td>1597968000000</td>\n",
       "      <td>2.89780000</td>\n",
       "      <td>3.09000000</td>\n",
       "      <td>2.68260000</td>\n",
       "      <td>2.83300000</td>\n",
       "      <td>9765153.74000000</td>\n",
       "      <td>1598054399999</td>\n",
       "      <td>28393535.85348400</td>\n",
       "      <td>50378</td>\n",
       "      <td>5164025.18000000</td>\n",
       "      <td>15030060.89473700</td>\n",
       "      <td>0</td>\n",
       "    </tr>\n",
       "    <tr>\n",
       "      <th>4</th>\n",
       "      <td>1598054400000</td>\n",
       "      <td>2.83870000</td>\n",
       "      <td>4.55000000</td>\n",
       "      <td>2.78200000</td>\n",
       "      <td>4.45460000</td>\n",
       "      <td>41611476.51000000</td>\n",
       "      <td>1598140799999</td>\n",
       "      <td>158038898.76509200</td>\n",
       "      <td>289179</td>\n",
       "      <td>23427260.15000000</td>\n",
       "      <td>88968596.11535300</td>\n",
       "      <td>0</td>\n",
       "    </tr>\n",
       "    <tr>\n",
       "      <th>...</th>\n",
       "      <td>...</td>\n",
       "      <td>...</td>\n",
       "      <td>...</td>\n",
       "      <td>...</td>\n",
       "      <td>...</td>\n",
       "      <td>...</td>\n",
       "      <td>...</td>\n",
       "      <td>...</td>\n",
       "      <td>...</td>\n",
       "      <td>...</td>\n",
       "      <td>...</td>\n",
       "      <td>...</td>\n",
       "    </tr>\n",
       "    <tr>\n",
       "      <th>520</th>\n",
       "      <td>1642636800000</td>\n",
       "      <td>24.06000000</td>\n",
       "      <td>25.62000000</td>\n",
       "      <td>22.84000000</td>\n",
       "      <td>23.01000000</td>\n",
       "      <td>6578668.82000000</td>\n",
       "      <td>1642723199999</td>\n",
       "      <td>160357989.39780000</td>\n",
       "      <td>278348</td>\n",
       "      <td>3149652.41000000</td>\n",
       "      <td>76921435.15140000</td>\n",
       "      <td>0</td>\n",
       "    </tr>\n",
       "    <tr>\n",
       "      <th>521</th>\n",
       "      <td>1642723200000</td>\n",
       "      <td>23.01000000</td>\n",
       "      <td>23.48000000</td>\n",
       "      <td>19.04000000</td>\n",
       "      <td>19.67000000</td>\n",
       "      <td>17269209.91200000</td>\n",
       "      <td>1642809599999</td>\n",
       "      <td>371432669.91895000</td>\n",
       "      <td>599228</td>\n",
       "      <td>7995489.09000000</td>\n",
       "      <td>171989675.87731000</td>\n",
       "      <td>0</td>\n",
       "    </tr>\n",
       "    <tr>\n",
       "      <th>522</th>\n",
       "      <td>1642809600000</td>\n",
       "      <td>19.66000000</td>\n",
       "      <td>20.16000000</td>\n",
       "      <td>16.17000000</td>\n",
       "      <td>18.27000000</td>\n",
       "      <td>23239217.06800000</td>\n",
       "      <td>1642895999999</td>\n",
       "      <td>424011444.45833800</td>\n",
       "      <td>629097</td>\n",
       "      <td>11275865.24000000</td>\n",
       "      <td>205839229.79330000</td>\n",
       "      <td>0</td>\n",
       "    </tr>\n",
       "    <tr>\n",
       "      <th>523</th>\n",
       "      <td>1642896000000</td>\n",
       "      <td>18.27000000</td>\n",
       "      <td>19.20000000</td>\n",
       "      <td>17.73000000</td>\n",
       "      <td>18.81000000</td>\n",
       "      <td>11483380.21000000</td>\n",
       "      <td>1642982399999</td>\n",
       "      <td>212079989.02780000</td>\n",
       "      <td>338840</td>\n",
       "      <td>5761415.86000000</td>\n",
       "      <td>106440359.56450000</td>\n",
       "      <td>0</td>\n",
       "    </tr>\n",
       "    <tr>\n",
       "      <th>524</th>\n",
       "      <td>1642982400000</td>\n",
       "      <td>18.81000000</td>\n",
       "      <td>18.82000000</td>\n",
       "      <td>15.83000000</td>\n",
       "      <td>16.75000000</td>\n",
       "      <td>15922025.74300000</td>\n",
       "      <td>1643068799999</td>\n",
       "      <td>267103972.81138000</td>\n",
       "      <td>410164</td>\n",
       "      <td>7751564.16600000</td>\n",
       "      <td>130076673.76220000</td>\n",
       "      <td>0</td>\n",
       "    </tr>\n",
       "  </tbody>\n",
       "</table>\n",
       "<p>525 rows × 12 columns</p>\n",
       "</div>"
      ],
      "text/plain": [
       "                0            1            2            3            4   \\\n",
       "0    1597708800000   2.09000000   4.44000000   2.00000000   3.10000000   \n",
       "1    1597795200000   3.10000000   3.19990000   2.64000000   2.95000000   \n",
       "2    1597881600000   2.94490000   3.11110000   2.60000000   2.90000000   \n",
       "3    1597968000000   2.89780000   3.09000000   2.68260000   2.83300000   \n",
       "4    1598054400000   2.83870000   4.55000000   2.78200000   4.45460000   \n",
       "..             ...          ...          ...          ...          ...   \n",
       "520  1642636800000  24.06000000  25.62000000  22.84000000  23.01000000   \n",
       "521  1642723200000  23.01000000  23.48000000  19.04000000  19.67000000   \n",
       "522  1642809600000  19.66000000  20.16000000  16.17000000  18.27000000   \n",
       "523  1642896000000  18.27000000  19.20000000  17.73000000  18.81000000   \n",
       "524  1642982400000  18.81000000  18.82000000  15.83000000  16.75000000   \n",
       "\n",
       "                    5              6                   7       8   \\\n",
       "0     6039881.97000000  1597795199999   18375373.39233600   22593   \n",
       "1    15895774.92000000  1597881599999   47558321.63325400   75075   \n",
       "2    11040863.60000000  1597967999999   31457410.86681700   53797   \n",
       "3     9765153.74000000  1598054399999   28393535.85348400   50378   \n",
       "4    41611476.51000000  1598140799999  158038898.76509200  289179   \n",
       "..                 ...            ...                 ...     ...   \n",
       "520   6578668.82000000  1642723199999  160357989.39780000  278348   \n",
       "521  17269209.91200000  1642809599999  371432669.91895000  599228   \n",
       "522  23239217.06800000  1642895999999  424011444.45833800  629097   \n",
       "523  11483380.21000000  1642982399999  212079989.02780000  338840   \n",
       "524  15922025.74300000  1643068799999  267103972.81138000  410164   \n",
       "\n",
       "                    9                   10 11  \n",
       "0     3458952.50000000   10596741.99470400  0  \n",
       "1     9037381.99000000   27152372.22780000  0  \n",
       "2     5189595.84000000   14890085.87234500  0  \n",
       "3     5164025.18000000   15030060.89473700  0  \n",
       "4    23427260.15000000   88968596.11535300  0  \n",
       "..                 ...                 ... ..  \n",
       "520   3149652.41000000   76921435.15140000  0  \n",
       "521   7995489.09000000  171989675.87731000  0  \n",
       "522  11275865.24000000  205839229.79330000  0  \n",
       "523   5761415.86000000  106440359.56450000  0  \n",
       "524   7751564.16600000  130076673.76220000  0  \n",
       "\n",
       "[525 rows x 12 columns]"
      ]
     },
     "execution_count": 743,
     "metadata": {},
     "output_type": "execute_result"
    }
   ],
   "source": [
    "# Get public key and private key from Binance (API Management) \n",
    "api_key = \"NT1J5dc36vJnNtzoqGK6JuJcJI7oqEYKzYYGsZcswFaYOA5SrxnDWwvaX33qsZmg\"\n",
    "secret =\"IqN8nyddAUEcB10V4nzXFTjiEFPsK1PZUvN5C7XZhMJyIBDOPVPxmWuyfKpetLKh\"\n",
    "client = Client(api_key, secret)\n",
    "\n",
    "#Get data \n",
    "historical = client.get_historical_klines(\"DOTUSDT\", Client.KLINE_INTERVAL_1DAY,\"1 Jan 2013\")\n",
    "data = pd.DataFrame(historical)\n",
    "\n",
    "data"
   ]
  },
  {
   "cell_type": "markdown",
   "metadata": {},
   "source": [
    "2.TRANFORM RAW DATA"
   ]
  },
  {
   "cell_type": "code",
   "execution_count": 744,
   "metadata": {},
   "outputs": [
    {
     "data": {
      "text/html": [
       "<div>\n",
       "<style scoped>\n",
       "    .dataframe tbody tr th:only-of-type {\n",
       "        vertical-align: middle;\n",
       "    }\n",
       "\n",
       "    .dataframe tbody tr th {\n",
       "        vertical-align: top;\n",
       "    }\n",
       "\n",
       "    .dataframe thead th {\n",
       "        text-align: right;\n",
       "    }\n",
       "</style>\n",
       "<table border=\"1\" class=\"dataframe\">\n",
       "  <thead>\n",
       "    <tr style=\"text-align: right;\">\n",
       "      <th></th>\n",
       "      <th>Open time</th>\n",
       "      <th>Open</th>\n",
       "      <th>High</th>\n",
       "      <th>Low</th>\n",
       "      <th>Close</th>\n",
       "      <th>Volume</th>\n",
       "      <th>Close time</th>\n",
       "      <th>Quote Asset Volume</th>\n",
       "      <th>Number of trade</th>\n",
       "      <th>tb base volume</th>\n",
       "      <th>tb quote volume</th>\n",
       "      <th>ignore</th>\n",
       "    </tr>\n",
       "  </thead>\n",
       "  <tbody>\n",
       "    <tr>\n",
       "      <th>0</th>\n",
       "      <td>2020-08-18</td>\n",
       "      <td>2.0900</td>\n",
       "      <td>4.4400</td>\n",
       "      <td>2.0000</td>\n",
       "      <td>3.1000</td>\n",
       "      <td>6.039882e+06</td>\n",
       "      <td>2020-08-18 23:59:59.999000064</td>\n",
       "      <td>1.837537e+07</td>\n",
       "      <td>22593</td>\n",
       "      <td>3.458952e+06</td>\n",
       "      <td>1.059674e+07</td>\n",
       "      <td>0</td>\n",
       "    </tr>\n",
       "    <tr>\n",
       "      <th>1</th>\n",
       "      <td>2020-08-19</td>\n",
       "      <td>3.1000</td>\n",
       "      <td>3.1999</td>\n",
       "      <td>2.6400</td>\n",
       "      <td>2.9500</td>\n",
       "      <td>1.589577e+07</td>\n",
       "      <td>2020-08-19 23:59:59.999000064</td>\n",
       "      <td>4.755832e+07</td>\n",
       "      <td>75075</td>\n",
       "      <td>9.037382e+06</td>\n",
       "      <td>2.715237e+07</td>\n",
       "      <td>0</td>\n",
       "    </tr>\n",
       "    <tr>\n",
       "      <th>2</th>\n",
       "      <td>2020-08-20</td>\n",
       "      <td>2.9449</td>\n",
       "      <td>3.1111</td>\n",
       "      <td>2.6000</td>\n",
       "      <td>2.9000</td>\n",
       "      <td>1.104086e+07</td>\n",
       "      <td>2020-08-20 23:59:59.999000064</td>\n",
       "      <td>3.145741e+07</td>\n",
       "      <td>53797</td>\n",
       "      <td>5.189596e+06</td>\n",
       "      <td>1.489009e+07</td>\n",
       "      <td>0</td>\n",
       "    </tr>\n",
       "    <tr>\n",
       "      <th>3</th>\n",
       "      <td>2020-08-21</td>\n",
       "      <td>2.8978</td>\n",
       "      <td>3.0900</td>\n",
       "      <td>2.6826</td>\n",
       "      <td>2.8330</td>\n",
       "      <td>9.765154e+06</td>\n",
       "      <td>2020-08-21 23:59:59.999000064</td>\n",
       "      <td>2.839354e+07</td>\n",
       "      <td>50378</td>\n",
       "      <td>5.164025e+06</td>\n",
       "      <td>1.503006e+07</td>\n",
       "      <td>0</td>\n",
       "    </tr>\n",
       "    <tr>\n",
       "      <th>4</th>\n",
       "      <td>2020-08-22</td>\n",
       "      <td>2.8387</td>\n",
       "      <td>4.5500</td>\n",
       "      <td>2.7820</td>\n",
       "      <td>4.4546</td>\n",
       "      <td>4.161148e+07</td>\n",
       "      <td>2020-08-22 23:59:59.999000064</td>\n",
       "      <td>1.580389e+08</td>\n",
       "      <td>289179</td>\n",
       "      <td>2.342726e+07</td>\n",
       "      <td>8.896860e+07</td>\n",
       "      <td>0</td>\n",
       "    </tr>\n",
       "    <tr>\n",
       "      <th>...</th>\n",
       "      <td>...</td>\n",
       "      <td>...</td>\n",
       "      <td>...</td>\n",
       "      <td>...</td>\n",
       "      <td>...</td>\n",
       "      <td>...</td>\n",
       "      <td>...</td>\n",
       "      <td>...</td>\n",
       "      <td>...</td>\n",
       "      <td>...</td>\n",
       "      <td>...</td>\n",
       "      <td>...</td>\n",
       "    </tr>\n",
       "    <tr>\n",
       "      <th>520</th>\n",
       "      <td>2022-01-20</td>\n",
       "      <td>24.0600</td>\n",
       "      <td>25.6200</td>\n",
       "      <td>22.8400</td>\n",
       "      <td>23.0100</td>\n",
       "      <td>6.578669e+06</td>\n",
       "      <td>2022-01-20 23:59:59.999000064</td>\n",
       "      <td>1.603580e+08</td>\n",
       "      <td>278348</td>\n",
       "      <td>3.149652e+06</td>\n",
       "      <td>7.692144e+07</td>\n",
       "      <td>0</td>\n",
       "    </tr>\n",
       "    <tr>\n",
       "      <th>521</th>\n",
       "      <td>2022-01-21</td>\n",
       "      <td>23.0100</td>\n",
       "      <td>23.4800</td>\n",
       "      <td>19.0400</td>\n",
       "      <td>19.6700</td>\n",
       "      <td>1.726921e+07</td>\n",
       "      <td>2022-01-21 23:59:59.999000064</td>\n",
       "      <td>3.714327e+08</td>\n",
       "      <td>599228</td>\n",
       "      <td>7.995489e+06</td>\n",
       "      <td>1.719897e+08</td>\n",
       "      <td>0</td>\n",
       "    </tr>\n",
       "    <tr>\n",
       "      <th>522</th>\n",
       "      <td>2022-01-22</td>\n",
       "      <td>19.6600</td>\n",
       "      <td>20.1600</td>\n",
       "      <td>16.1700</td>\n",
       "      <td>18.2700</td>\n",
       "      <td>2.323922e+07</td>\n",
       "      <td>2022-01-22 23:59:59.999000064</td>\n",
       "      <td>4.240114e+08</td>\n",
       "      <td>629097</td>\n",
       "      <td>1.127587e+07</td>\n",
       "      <td>2.058392e+08</td>\n",
       "      <td>0</td>\n",
       "    </tr>\n",
       "    <tr>\n",
       "      <th>523</th>\n",
       "      <td>2022-01-23</td>\n",
       "      <td>18.2700</td>\n",
       "      <td>19.2000</td>\n",
       "      <td>17.7300</td>\n",
       "      <td>18.8100</td>\n",
       "      <td>1.148338e+07</td>\n",
       "      <td>2022-01-23 23:59:59.999000064</td>\n",
       "      <td>2.120800e+08</td>\n",
       "      <td>338840</td>\n",
       "      <td>5.761416e+06</td>\n",
       "      <td>1.064404e+08</td>\n",
       "      <td>0</td>\n",
       "    </tr>\n",
       "    <tr>\n",
       "      <th>524</th>\n",
       "      <td>2022-01-24</td>\n",
       "      <td>18.8100</td>\n",
       "      <td>18.8200</td>\n",
       "      <td>15.8300</td>\n",
       "      <td>16.7500</td>\n",
       "      <td>1.592203e+07</td>\n",
       "      <td>2022-01-24 23:59:59.999000064</td>\n",
       "      <td>2.671040e+08</td>\n",
       "      <td>410164</td>\n",
       "      <td>7.751564e+06</td>\n",
       "      <td>1.300767e+08</td>\n",
       "      <td>0</td>\n",
       "    </tr>\n",
       "  </tbody>\n",
       "</table>\n",
       "<p>525 rows × 12 columns</p>\n",
       "</div>"
      ],
      "text/plain": [
       "     Open time     Open     High      Low    Close        Volume  \\\n",
       "0   2020-08-18   2.0900   4.4400   2.0000   3.1000  6.039882e+06   \n",
       "1   2020-08-19   3.1000   3.1999   2.6400   2.9500  1.589577e+07   \n",
       "2   2020-08-20   2.9449   3.1111   2.6000   2.9000  1.104086e+07   \n",
       "3   2020-08-21   2.8978   3.0900   2.6826   2.8330  9.765154e+06   \n",
       "4   2020-08-22   2.8387   4.5500   2.7820   4.4546  4.161148e+07   \n",
       "..         ...      ...      ...      ...      ...           ...   \n",
       "520 2022-01-20  24.0600  25.6200  22.8400  23.0100  6.578669e+06   \n",
       "521 2022-01-21  23.0100  23.4800  19.0400  19.6700  1.726921e+07   \n",
       "522 2022-01-22  19.6600  20.1600  16.1700  18.2700  2.323922e+07   \n",
       "523 2022-01-23  18.2700  19.2000  17.7300  18.8100  1.148338e+07   \n",
       "524 2022-01-24  18.8100  18.8200  15.8300  16.7500  1.592203e+07   \n",
       "\n",
       "                       Close time  Quote Asset Volume  Number of trade  \\\n",
       "0   2020-08-18 23:59:59.999000064        1.837537e+07            22593   \n",
       "1   2020-08-19 23:59:59.999000064        4.755832e+07            75075   \n",
       "2   2020-08-20 23:59:59.999000064        3.145741e+07            53797   \n",
       "3   2020-08-21 23:59:59.999000064        2.839354e+07            50378   \n",
       "4   2020-08-22 23:59:59.999000064        1.580389e+08           289179   \n",
       "..                            ...                 ...              ...   \n",
       "520 2022-01-20 23:59:59.999000064        1.603580e+08           278348   \n",
       "521 2022-01-21 23:59:59.999000064        3.714327e+08           599228   \n",
       "522 2022-01-22 23:59:59.999000064        4.240114e+08           629097   \n",
       "523 2022-01-23 23:59:59.999000064        2.120800e+08           338840   \n",
       "524 2022-01-24 23:59:59.999000064        2.671040e+08           410164   \n",
       "\n",
       "     tb base volume  tb quote volume ignore  \n",
       "0      3.458952e+06     1.059674e+07      0  \n",
       "1      9.037382e+06     2.715237e+07      0  \n",
       "2      5.189596e+06     1.489009e+07      0  \n",
       "3      5.164025e+06     1.503006e+07      0  \n",
       "4      2.342726e+07     8.896860e+07      0  \n",
       "..              ...              ...    ...  \n",
       "520    3.149652e+06     7.692144e+07      0  \n",
       "521    7.995489e+06     1.719897e+08      0  \n",
       "522    1.127587e+07     2.058392e+08      0  \n",
       "523    5.761416e+06     1.064404e+08      0  \n",
       "524    7.751564e+06     1.300767e+08      0  \n",
       "\n",
       "[525 rows x 12 columns]"
      ]
     },
     "execution_count": 744,
     "metadata": {},
     "output_type": "execute_result"
    }
   ],
   "source": [
    "#Set index and name for columns\n",
    "data.columns = [\"Open time\",'Open','High','Low','Close','Volume','Close time','Quote Asset Volume','Number of trade','tb base volume','tb quote volume','ignore']\n",
    "\n",
    "#Convert open time and close time columns from num to datatime\n",
    "data['Open time']= pd.to_datetime(data['Open time']/1000, unit ='s')\n",
    "data['Close time']= pd.to_datetime(data['Close time']/1000, unit ='s')\n",
    "\n",
    "#Tranform the others to numeric \n",
    "numeric_columns = ['Open','High','Low','Close','Volume','Quote Asset Volume','tb base volume','tb quote volume']\n",
    "data[numeric_columns] = data[numeric_columns].apply(pd.to_numeric, axis =1)\n",
    "\n",
    "data"
   ]
  },
  {
   "cell_type": "code",
   "execution_count": 745,
   "metadata": {},
   "outputs": [
    {
     "data": {
      "text/html": [
       "<div>\n",
       "<style scoped>\n",
       "    .dataframe tbody tr th:only-of-type {\n",
       "        vertical-align: middle;\n",
       "    }\n",
       "\n",
       "    .dataframe tbody tr th {\n",
       "        vertical-align: top;\n",
       "    }\n",
       "\n",
       "    .dataframe thead th {\n",
       "        text-align: right;\n",
       "    }\n",
       "</style>\n",
       "<table border=\"1\" class=\"dataframe\">\n",
       "  <thead>\n",
       "    <tr style=\"text-align: right;\">\n",
       "      <th></th>\n",
       "      <th>Price</th>\n",
       "    </tr>\n",
       "    <tr>\n",
       "      <th>Date</th>\n",
       "      <th></th>\n",
       "    </tr>\n",
       "  </thead>\n",
       "  <tbody>\n",
       "    <tr>\n",
       "      <th>2020-08-18</th>\n",
       "      <td>3.1000</td>\n",
       "    </tr>\n",
       "    <tr>\n",
       "      <th>2020-08-19</th>\n",
       "      <td>2.9500</td>\n",
       "    </tr>\n",
       "    <tr>\n",
       "      <th>2020-08-20</th>\n",
       "      <td>2.9000</td>\n",
       "    </tr>\n",
       "    <tr>\n",
       "      <th>2020-08-21</th>\n",
       "      <td>2.8330</td>\n",
       "    </tr>\n",
       "    <tr>\n",
       "      <th>2020-08-22</th>\n",
       "      <td>4.4546</td>\n",
       "    </tr>\n",
       "    <tr>\n",
       "      <th>...</th>\n",
       "      <td>...</td>\n",
       "    </tr>\n",
       "    <tr>\n",
       "      <th>2022-01-20</th>\n",
       "      <td>23.0100</td>\n",
       "    </tr>\n",
       "    <tr>\n",
       "      <th>2022-01-21</th>\n",
       "      <td>19.6700</td>\n",
       "    </tr>\n",
       "    <tr>\n",
       "      <th>2022-01-22</th>\n",
       "      <td>18.2700</td>\n",
       "    </tr>\n",
       "    <tr>\n",
       "      <th>2022-01-23</th>\n",
       "      <td>18.8100</td>\n",
       "    </tr>\n",
       "    <tr>\n",
       "      <th>2022-01-24</th>\n",
       "      <td>16.7500</td>\n",
       "    </tr>\n",
       "  </tbody>\n",
       "</table>\n",
       "<p>525 rows × 1 columns</p>\n",
       "</div>"
      ],
      "text/plain": [
       "              Price\n",
       "Date               \n",
       "2020-08-18   3.1000\n",
       "2020-08-19   2.9500\n",
       "2020-08-20   2.9000\n",
       "2020-08-21   2.8330\n",
       "2020-08-22   4.4546\n",
       "...             ...\n",
       "2022-01-20  23.0100\n",
       "2022-01-21  19.6700\n",
       "2022-01-22  18.2700\n",
       "2022-01-23  18.8100\n",
       "2022-01-24  16.7500\n",
       "\n",
       "[525 rows x 1 columns]"
      ]
     },
     "execution_count": 745,
     "metadata": {},
     "output_type": "execute_result"
    }
   ],
   "source": [
    "# Remove cols not used \n",
    "df = data.iloc[:,[0,4]]\n",
    "# Set DATE to index \n",
    "df.set_index(\"Open time\", inplace = True)\n",
    "df.index.name = \"Date\"\n",
    "df.columns = [\"Price\"]\n",
    "df"
   ]
  },
  {
   "cell_type": "markdown",
   "metadata": {},
   "source": [
    "3. cHECK DATA"
   ]
  },
  {
   "cell_type": "code",
   "execution_count": 746,
   "metadata": {},
   "outputs": [
    {
     "name": "stdout",
     "output_type": "stream",
     "text": [
      "<class 'pandas.core.frame.DataFrame'>\n",
      "DatetimeIndex: 525 entries, 2020-08-18 to 2022-01-24\n",
      "Data columns (total 1 columns):\n",
      " #   Column  Non-Null Count  Dtype  \n",
      "---  ------  --------------  -----  \n",
      " 0   Price   525 non-null    float64\n",
      "dtypes: float64(1)\n",
      "memory usage: 8.2 KB\n"
     ]
    }
   ],
   "source": [
    "df.info()"
   ]
  },
  {
   "cell_type": "code",
   "execution_count": 747,
   "metadata": {},
   "outputs": [
    {
     "data": {
      "text/html": [
       "<div>\n",
       "<style scoped>\n",
       "    .dataframe tbody tr th:only-of-type {\n",
       "        vertical-align: middle;\n",
       "    }\n",
       "\n",
       "    .dataframe tbody tr th {\n",
       "        vertical-align: top;\n",
       "    }\n",
       "\n",
       "    .dataframe thead th {\n",
       "        text-align: right;\n",
       "    }\n",
       "</style>\n",
       "<table border=\"1\" class=\"dataframe\">\n",
       "  <thead>\n",
       "    <tr style=\"text-align: right;\">\n",
       "      <th></th>\n",
       "      <th>Price</th>\n",
       "    </tr>\n",
       "  </thead>\n",
       "  <tbody>\n",
       "    <tr>\n",
       "      <th>count</th>\n",
       "      <td>525.000000</td>\n",
       "    </tr>\n",
       "    <tr>\n",
       "      <th>mean</th>\n",
       "      <td>22.580615</td>\n",
       "    </tr>\n",
       "    <tr>\n",
       "      <th>std</th>\n",
       "      <td>13.730458</td>\n",
       "    </tr>\n",
       "    <tr>\n",
       "      <th>min</th>\n",
       "      <td>2.833000</td>\n",
       "    </tr>\n",
       "    <tr>\n",
       "      <th>25%</th>\n",
       "      <td>6.271800</td>\n",
       "    </tr>\n",
       "    <tr>\n",
       "      <th>50%</th>\n",
       "      <td>23.868000</td>\n",
       "    </tr>\n",
       "    <tr>\n",
       "      <th>75%</th>\n",
       "      <td>34.130000</td>\n",
       "    </tr>\n",
       "    <tr>\n",
       "      <th>max</th>\n",
       "      <td>53.820000</td>\n",
       "    </tr>\n",
       "  </tbody>\n",
       "</table>\n",
       "</div>"
      ],
      "text/plain": [
       "            Price\n",
       "count  525.000000\n",
       "mean    22.580615\n",
       "std     13.730458\n",
       "min      2.833000\n",
       "25%      6.271800\n",
       "50%     23.868000\n",
       "75%     34.130000\n",
       "max     53.820000"
      ]
     },
     "execution_count": 747,
     "metadata": {},
     "output_type": "execute_result"
    }
   ],
   "source": [
    "df.describe()"
   ]
  },
  {
   "cell_type": "markdown",
   "metadata": {},
   "source": [
    "4.ROLLING MEAN AND STANDARD DEVIATION"
   ]
  },
  {
   "cell_type": "code",
   "execution_count": 748,
   "metadata": {},
   "outputs": [
    {
     "data": {
      "text/plain": [
       "<AxesSubplot:xlabel='Date'>"
      ]
     },
     "execution_count": 748,
     "metadata": {},
     "output_type": "execute_result"
    },
    {
     "data": {
      "image/png": "[encoded data removed]",
      "text/plain": [
       "<Figure size 1440x504 with 1 Axes>"
      ]
     },
     "metadata": {
      "needs_background": "light"
     },
     "output_type": "display_data"
    }
   ],
   "source": [
    "# Rolling mean and std regard 3 days\n",
    "df_check = df.resample(\"3D\").last()\n",
    "\n",
    "window_size = 12 \n",
    "df_check[\"rolling_mean\"] = df_check[\"Price\"].rolling(window = window_size).mean()\n",
    "df_check[\"rolling_std\"] = df_check[\"Price\"].rolling(window = window_size).std()\n",
    "\n",
    "df_check.plot()"
   ]
  },
  {
   "cell_type": "markdown",
   "metadata": {},
   "source": [
    "5. DECOMPOSE TIME SERIES DATA"
   ]
  },
  {
   "cell_type": "code",
   "execution_count": 749,
   "metadata": {},
   "outputs": [
    {
     "data": {
      "image/png": "[encoded data removed]",
      "text/plain": [
       "<Figure size 1440x504 with 4 Axes>"
      ]
     },
     "metadata": {
      "needs_background": "light"
     },
     "output_type": "display_data"
    }
   ],
   "source": [
    "# Decompose data to check seasonal by using multiplicative model \n",
    "decompose_results = seasonal_decompose(df_check[\"Price\"], model = \"multiplicative\") #addictive\n",
    "decompose_results.plot()\n",
    "plt.tight_layout()\n",
    "plt.show()"
   ]
  },
  {
   "cell_type": "markdown",
   "metadata": {},
   "source": [
    "6. DIFF DATA"
   ]
  },
  {
   "cell_type": "code",
   "execution_count": 750,
   "metadata": {},
   "outputs": [
    {
     "data": {
      "text/plain": [
       "<AxesSubplot:title={'center':'Sai phan bac 1'}, xlabel='Date'>"
      ]
     },
     "execution_count": 750,
     "metadata": {},
     "output_type": "execute_result"
    },
    {
     "data": {
      "image/png": "[encoded data removed]",
      "text/plain": [
       "<Figure size 1440x504 with 2 Axes>"
      ]
     },
     "metadata": {
      "needs_background": "light"
     },
     "output_type": "display_data"
    }
   ],
   "source": [
    "# Sai phan du lieu bac 1\n",
    "\n",
    "df_diff = df_check.diff(1)\n",
    "df_diff.dropna(inplace =True)\n",
    "fig, ax = plt.subplots(2, sharex =True)\n",
    "df_check[\"Price\"].plot(ax =ax[0], title =\"DOT\")\n",
    "df_check['Price'].diff().plot(ax= ax[1], title =\"Sai phan bac 1\")"
   ]
  },
  {
   "cell_type": "code",
   "execution_count": 751,
   "metadata": {},
   "outputs": [
    {
     "data": {
      "text/html": [
       "<div>\n",
       "<style scoped>\n",
       "    .dataframe tbody tr th:only-of-type {\n",
       "        vertical-align: middle;\n",
       "    }\n",
       "\n",
       "    .dataframe tbody tr th {\n",
       "        vertical-align: top;\n",
       "    }\n",
       "\n",
       "    .dataframe thead th {\n",
       "        text-align: right;\n",
       "    }\n",
       "</style>\n",
       "<table border=\"1\" class=\"dataframe\">\n",
       "  <thead>\n",
       "    <tr style=\"text-align: right;\">\n",
       "      <th></th>\n",
       "      <th>Price</th>\n",
       "      <th>rolling_mean</th>\n",
       "      <th>rolling_std</th>\n",
       "    </tr>\n",
       "    <tr>\n",
       "      <th>Date</th>\n",
       "      <th></th>\n",
       "      <th></th>\n",
       "      <th></th>\n",
       "    </tr>\n",
       "  </thead>\n",
       "  <tbody>\n",
       "    <tr>\n",
       "      <th>2020-09-23</th>\n",
       "      <td>0.2514</td>\n",
       "      <td>0.126158</td>\n",
       "      <td>-0.209529</td>\n",
       "    </tr>\n",
       "    <tr>\n",
       "      <th>2020-09-26</th>\n",
       "      <td>0.0362</td>\n",
       "      <td>0.039350</td>\n",
       "      <td>-0.049349</td>\n",
       "    </tr>\n",
       "    <tr>\n",
       "      <th>2020-09-29</th>\n",
       "      <td>-0.1033</td>\n",
       "      <td>-0.143667</td>\n",
       "      <td>-0.043183</td>\n",
       "    </tr>\n",
       "    <tr>\n",
       "      <th>2020-10-02</th>\n",
       "      <td>-0.1698</td>\n",
       "      <td>-0.163025</td>\n",
       "      <td>-0.081752</td>\n",
       "    </tr>\n",
       "    <tr>\n",
       "      <th>2020-10-05</th>\n",
       "      <td>-0.3253</td>\n",
       "      <td>-0.198942</td>\n",
       "      <td>-0.152117</td>\n",
       "    </tr>\n",
       "    <tr>\n",
       "      <th>...</th>\n",
       "      <td>...</td>\n",
       "      <td>...</td>\n",
       "      <td>...</td>\n",
       "    </tr>\n",
       "    <tr>\n",
       "      <th>2022-01-10</th>\n",
       "      <td>2.6900</td>\n",
       "      <td>-0.265000</td>\n",
       "      <td>-0.319189</td>\n",
       "    </tr>\n",
       "    <tr>\n",
       "      <th>2022-01-13</th>\n",
       "      <td>0.2800</td>\n",
       "      <td>0.096667</td>\n",
       "      <td>0.006348</td>\n",
       "    </tr>\n",
       "    <tr>\n",
       "      <th>2022-01-16</th>\n",
       "      <td>-2.4500</td>\n",
       "      <td>-0.067500</td>\n",
       "      <td>0.063781</td>\n",
       "    </tr>\n",
       "    <tr>\n",
       "      <th>2022-01-19</th>\n",
       "      <td>-5.4800</td>\n",
       "      <td>-0.529167</td>\n",
       "      <td>1.022923</td>\n",
       "    </tr>\n",
       "    <tr>\n",
       "      <th>2022-01-22</th>\n",
       "      <td>-2.9200</td>\n",
       "      <td>-0.669167</td>\n",
       "      <td>1.186414</td>\n",
       "    </tr>\n",
       "  </tbody>\n",
       "</table>\n",
       "<p>163 rows × 3 columns</p>\n",
       "</div>"
      ],
      "text/plain": [
       "             Price  rolling_mean  rolling_std\n",
       "Date                                         \n",
       "2020-09-23  0.2514      0.126158    -0.209529\n",
       "2020-09-26  0.0362      0.039350    -0.049349\n",
       "2020-09-29 -0.1033     -0.143667    -0.043183\n",
       "2020-10-02 -0.1698     -0.163025    -0.081752\n",
       "2020-10-05 -0.3253     -0.198942    -0.152117\n",
       "...            ...           ...          ...\n",
       "2022-01-10  2.6900     -0.265000    -0.319189\n",
       "2022-01-13  0.2800      0.096667     0.006348\n",
       "2022-01-16 -2.4500     -0.067500     0.063781\n",
       "2022-01-19 -5.4800     -0.529167     1.022923\n",
       "2022-01-22 -2.9200     -0.669167     1.186414\n",
       "\n",
       "[163 rows x 3 columns]"
      ]
     },
     "execution_count": 751,
     "metadata": {},
     "output_type": "execute_result"
    }
   ],
   "source": [
    "df_diff"
   ]
  },
  {
   "cell_type": "markdown",
   "metadata": {},
   "source": [
    "7.CHECK CORRELATION"
   ]
  },
  {
   "cell_type": "code",
   "execution_count": 752,
   "metadata": {},
   "outputs": [
    {
     "data": {
      "image/png": "[encoded data removed]",
      "text/plain": [
       "<Figure size 1152x576 with 2 Axes>"
      ]
     },
     "metadata": {
      "needs_background": "light"
     },
     "output_type": "display_data"
    }
   ],
   "source": [
    "\n",
    "def test_autocorrelation(x, n_lags=40, alpha=0.05, h0_type='c'):\n",
    "    '''\n",
    "    Function for testing the stationarity of a series by using:\n",
    "    * the ADF test\n",
    "    * the KPSS test\n",
    "    * ACF/PACF plots\n",
    "\n",
    "    Parameters\n",
    "    ----------\n",
    "    x: pd.Series / np.array\n",
    "        The time series to be checked for stationarity\n",
    "    n_lags : int\n",
    "        The number of lags for the ACF/PACF plots\n",
    "    alpha : float\n",
    "        Significance level for the ACF/PACF plots\n",
    "    h0_type: str{'c', 'ct'}\n",
    "        Indicates the null hypothesis of the KPSS test:\n",
    "            * 'c': The data is stationary around a constant(default)\n",
    "            * 'ct': The data is stationary around a trend\n",
    "\n",
    "    Returns\n",
    "    -------\n",
    "    fig : matplotlib.figure.Figure\n",
    "        Figure containing the ACF/PACF plot\n",
    "    '''\n",
    "    fig, ax = plt.subplots(2, figsize=(16, 8))\n",
    "    plot_acf(x, ax=ax[0], lags=n_lags, alpha=alpha)\n",
    "    plot_pacf(x, ax=ax[1], lags=n_lags, alpha=alpha)\n",
    "\n",
    "    return fig\n",
    "\n",
    "\n",
    "# using function test_autocorrelation to check autocorrelation\n",
    "fig = test_autocorrelation(df_check[\"Price\"])"
   ]
  },
  {
   "cell_type": "markdown",
   "metadata": {},
   "source": [
    "9.TEST ADF & KPSS"
   ]
  },
  {
   "cell_type": "code",
   "execution_count": 753,
   "metadata": {},
   "outputs": [
    {
     "name": "stdout",
     "output_type": "stream",
     "text": [
      "Kiem dinh ADF:\n",
      "Test Statistics        -1.279757e+01\n",
      "p-value                 6.863527e-24\n",
      "# of Lags Used          0.000000e+00\n",
      "of Observations Used    1.620000e+02\n",
      "Critical Value (1%)    -3.471374e+00\n",
      "Critical Value (5%)    -2.879552e+00\n",
      "Critical Value (10%)   -2.576373e+00\n",
      "dtype: float64\n",
      "--------------------------------------\n",
      "Kiem dinh KPSS:\n",
      "Test Statistics           0.1695\n",
      "p-value                   0.1000\n",
      "# of Lags                14.0000\n",
      "Critical Value (10%)      0.3470\n",
      "Critical Value (5%)       0.4630\n",
      "Critical Value (2.5%)     0.5740\n",
      "Critical Value (1%)       0.7390\n",
      "dtype: float64\n"
     ]
    }
   ],
   "source": [
    "# Ham Kiem dinh ADF\n",
    "def adf_test(x):\n",
    "    indices = [\"Test Statistics\", \"p-value\", \n",
    "                \"# of Lags Used\",\"of Observations Used\"]\n",
    "    adf_test = adfuller(x)\n",
    "    results = pd.Series(adf_test[0:4], index = indices)\n",
    "    for key, value in adf_test[4].items():\n",
    "        results[f\"Critical Value ({key})\"] = value\n",
    "    return results\n",
    "\n",
    "# Ham Kiem dinh KPSS\n",
    "def kpss_test(x):\n",
    "    indices = [\"Test Statistics\", \"p-value\", \n",
    "                \"# of Lags\"]\n",
    "    kpss_test = kpss(x)\n",
    "    results = pd.Series(kpss_test[0:3], index = indices)\n",
    "    for key, value in kpss_test[3].items():\n",
    "        results[f\"Critical Value ({key})\"] = value\n",
    "    return results\n",
    "\n",
    "\n",
    "#Kiem dinh ADF sai phan bac 1\n",
    "print(f\"Kiem dinh ADF:\\n{adf_test(df_diff['Price'])}\")\n",
    "\n",
    "print(\"--------------------------------------\")\n",
    "\n",
    "#Kiem dinh KPSS sai phan bac 1\n",
    "print(f\"Kiem dinh KPSS:\\n{kpss_test(df_diff['Price'])}\")\n"
   ]
  },
  {
   "cell_type": "markdown",
   "metadata": {},
   "source": [
    "10.SPLIT DATA AND CHOOSE p d q"
   ]
  },
  {
   "cell_type": "code",
   "execution_count": 754,
   "metadata": {},
   "outputs": [
    {
     "name": "stdout",
     "output_type": "stream",
     "text": [
      "Performing stepwise search to minimize aic\n",
      " ARIMA(2,1,2)(0,0,0)[0] intercept   : AIC=1923.570, Time=0.49 sec\n",
      " ARIMA(0,1,0)(0,0,0)[0] intercept   : AIC=1926.375, Time=0.02 sec\n",
      " ARIMA(1,1,0)(0,0,0)[0] intercept   : AIC=1923.816, Time=0.04 sec\n",
      " ARIMA(0,1,1)(0,0,0)[0] intercept   : AIC=1924.184, Time=0.05 sec\n",
      " ARIMA(0,1,0)(0,0,0)[0]             : AIC=1925.027, Time=0.01 sec\n",
      " ARIMA(1,1,2)(0,0,0)[0] intercept   : AIC=1927.026, Time=0.27 sec\n",
      " ARIMA(2,1,1)(0,0,0)[0] intercept   : AIC=1921.877, Time=0.23 sec\n",
      " ARIMA(1,1,1)(0,0,0)[0] intercept   : AIC=1919.878, Time=0.15 sec\n",
      " ARIMA(0,1,2)(0,0,0)[0] intercept   : AIC=1925.153, Time=0.09 sec\n",
      " ARIMA(2,1,0)(0,0,0)[0] intercept   : AIC=1925.078, Time=0.06 sec\n",
      " ARIMA(1,1,1)(0,0,0)[0]             : AIC=1918.613, Time=0.08 sec\n",
      " ARIMA(0,1,1)(0,0,0)[0]             : AIC=1922.983, Time=0.03 sec\n",
      " ARIMA(1,1,0)(0,0,0)[0]             : AIC=1922.614, Time=0.04 sec\n",
      " ARIMA(2,1,1)(0,0,0)[0]             : AIC=1920.613, Time=0.13 sec\n",
      " ARIMA(1,1,2)(0,0,0)[0]             : AIC=1925.725, Time=0.13 sec\n",
      " ARIMA(0,1,2)(0,0,0)[0]             : AIC=1923.882, Time=0.06 sec\n",
      " ARIMA(2,1,0)(0,0,0)[0]             : AIC=1923.810, Time=0.05 sec\n",
      " ARIMA(2,1,2)(0,0,0)[0]             : AIC=1922.444, Time=0.18 sec\n",
      "\n",
      "Best model:  ARIMA(1,1,1)(0,0,0)[0]          \n",
      "Total fit time: 2.136 seconds\n"
     ]
    }
   ],
   "source": [
    "\n",
    "# Train & test split\n",
    "to_row = int(len(df)*0.9)\n",
    "\n",
    "train =list(df[0:to_row][\"Price\"])\n",
    "test =list(df[to_row:][\"Price\"])\n",
    "\n",
    "\n",
    "# Using autoarima to choose p d q with AIC smallest\n",
    "\n",
    "import pmdarima as pm \n",
    "auto_arima = pm.auto_arima(df[0:to_row][\"Price\"], trace =1, \n",
    "                            error_action =\"ignore\",\n",
    "                            suppress_warnings =True, \n",
    "                            seasonal = False, \n",
    "                            stepwise =True, \n",
    "                            approximation =False, \n",
    "                            n_jobs =-1, \n",
    "                            seasonal_test =None)\n",
    "\n",
    "\n"
   ]
  },
  {
   "cell_type": "code",
   "execution_count": 755,
   "metadata": {},
   "outputs": [
    {
     "data": {
      "application/vnd.plotly.v1+json": {
       "config": {
        "plotlyServerURL": "https://plot.ly"
       },
       "data": [
        {
         "mode": "lines+markers",
         "name": "Train data",
         "type": "scatter",
         "x": [
          "2020-08-18T00:00:00",
          "2020-08-19T00:00:00",
          "2020-08-20T00:00:00",
          "2020-08-21T00:00:00",
          "2020-08-22T00:00:00",
          "2020-08-23T00:00:00",
          "2020-08-24T00:00:00",
          "2020-08-25T00:00:00",
          "2020-08-26T00:00:00",
          "2020-08-27T00:00:00",
          "2020-08-28T00:00:00",
          "2020-08-29T00:00:00",
          "2020-08-30T00:00:00",
          "2020-08-31T00:00:00",
          "2020-09-01T00:00:00",
          "2020-09-02T00:00:00",
          "2020-09-03T00:00:00",
          "2020-09-04T00:00:00",
          "2020-09-05T00:00:00",
          "2020-09-06T00:00:00",
          "2020-09-07T00:00:00",
          "2020-09-08T00:00:00",
          "2020-09-09T00:00:00",
          "2020-09-10T00:00:00",
          "2020-09-11T00:00:00",
          "2020-09-12T00:00:00",
          "2020-09-13T00:00:00",
          "2020-09-14T00:00:00",
          "2020-09-15T00:00:00",
          "2020-09-16T00:00:00",
          "2020-09-17T00:00:00",
          "2020-09-18T00:00:00",
          "2020-09-19T00:00:00",
          "2020-09-20T00:00:00",
          "2020-09-21T00:00:00",
          "2020-09-22T00:00:00",
          "2020-09-23T00:00:00",
          "2020-09-24T00:00:00",
          "2020-09-25T00:00:00",
          "2020-09-26T00:00:00",
          "2020-09-27T00:00:00",
          "2020-09-28T00:00:00",
          "2020-09-29T00:00:00",
          "2020-09-30T00:00:00",
          "2020-10-01T00:00:00",
          "2020-10-02T00:00:00",
          "2020-10-03T00:00:00",
          "2020-10-04T00:00:00",
          "2020-10-05T00:00:00",
          "2020-10-06T00:00:00",
          "2020-10-07T00:00:00",
          "2020-10-08T00:00:00",
          "2020-10-09T00:00:00",
          "2020-10-10T00:00:00",
          "2020-10-11T00:00:00",
          "2020-10-12T00:00:00",
          "2020-10-13T00:00:00",
          "2020-10-14T00:00:00",
          "2020-10-15T00:00:00",
          "2020-10-16T00:00:00",
          "2020-10-17T00:00:00",
          "2020-10-18T00:00:00",
          "2020-10-19T00:00:00",
          "2020-10-20T00:00:00",
          "2020-10-21T00:00:00",
          "2020-10-22T00:00:00",
          "2020-10-23T00:00:00",
          "2020-10-24T00:00:00",
          "2020-10-25T00:00:00",
          "2020-10-26T00:00:00",
          "2020-10-27T00:00:00",
          "2020-10-28T00:00:00",
          "2020-10-29T00:00:00",
          "2020-10-30T00:00:00",
          "2020-10-31T00:00:00",
          "2020-11-01T00:00:00",
          "2020-11-02T00:00:00",
          "2020-11-03T00:00:00",
          "2020-11-04T00:00:00",
          "2020-11-05T00:00:00",
          "2020-11-06T00:00:00",
          "2020-11-07T00:00:00",
          "2020-11-08T00:00:00",
          "2020-11-09T00:00:00",
          "2020-11-10T00:00:00",
          "2020-11-11T00:00:00",
          "2020-11-12T00:00:00",
          "2020-11-13T00:00:00",
          "2020-11-14T00:00:00",
          "2020-11-15T00:00:00",
          "2020-11-16T00:00:00",
          "2020-11-17T00:00:00",
          "2020-11-18T00:00:00",
          "2020-11-19T00:00:00",
          "2020-11-20T00:00:00",
          "2020-11-21T00:00:00",
          "2020-11-22T00:00:00",
          "2020-11-23T00:00:00",
          "2020-11-24T00:00:00",
          "2020-11-25T00:00:00",
          "2020-11-26T00:00:00",
          "2020-11-27T00:00:00",
          "2020-11-28T00:00:00",
          "2020-11-29T00:00:00",
          "2020-11-30T00:00:00",
          "2020-12-01T00:00:00",
          "2020-12-02T00:00:00",
          "2020-12-03T00:00:00",
          "2020-12-04T00:00:00",
          "2020-12-05T00:00:00",
          "2020-12-06T00:00:00",
          "2020-12-07T00:00:00",
          "2020-12-08T00:00:00",
          "2020-12-09T00:00:00",
          "2020-12-10T00:00:00",
          "2020-12-11T00:00:00",
          "2020-12-12T00:00:00",
          "2020-12-13T00:00:00",
          "2020-12-14T00:00:00",
          "2020-12-15T00:00:00",
          "2020-12-16T00:00:00",
          "2020-12-17T00:00:00",
          "2020-12-18T00:00:00",
          "2020-12-19T00:00:00",
          "2020-12-20T00:00:00",
          "2020-12-21T00:00:00",
          "2020-12-22T00:00:00",
          "2020-12-23T00:00:00",
          "2020-12-24T00:00:00",
          "2020-12-25T00:00:00",
          "2020-12-26T00:00:00",
          "2020-12-27T00:00:00",
          "2020-12-28T00:00:00",
          "2020-12-29T00:00:00",
          "2020-12-30T00:00:00",
          "2020-12-31T00:00:00",
          "2021-01-01T00:00:00",
          "2021-01-02T00:00:00",
          "2021-01-03T00:00:00",
          "2021-01-04T00:00:00",
          "2021-01-05T00:00:00",
          "2021-01-06T00:00:00",
          "2021-01-07T00:00:00",
          "2021-01-08T00:00:00",
          "2021-01-09T00:00:00",
          "2021-01-10T00:00:00",
          "2021-01-11T00:00:00",
          "2021-01-12T00:00:00",
          "2021-01-13T00:00:00",
          "2021-01-14T00:00:00",
          "2021-01-15T00:00:00",
          "2021-01-16T00:00:00",
          "2021-01-17T00:00:00",
          "2021-01-18T00:00:00",
          "2021-01-19T00:00:00",
          "2021-01-20T00:00:00",
          "2021-01-21T00:00:00",
          "2021-01-22T00:00:00",
          "2021-01-23T00:00:00",
          "2021-01-24T00:00:00",
          "2021-01-25T00:00:00",
          "2021-01-26T00:00:00",
          "2021-01-27T00:00:00",
          "2021-01-28T00:00:00",
          "2021-01-29T00:00:00",
          "2021-01-30T00:00:00",
          "2021-01-31T00:00:00",
          "2021-02-01T00:00:00",
          "2021-02-02T00:00:00",
          "2021-02-03T00:00:00",
          "2021-02-04T00:00:00",
          "2021-02-05T00:00:00",
          "2021-02-06T00:00:00",
          "2021-02-07T00:00:00",
          "2021-02-08T00:00:00",
          "2021-02-09T00:00:00",
          "2021-02-10T00:00:00",
          "2021-02-11T00:00:00",
          "2021-02-12T00:00:00",
          "2021-02-13T00:00:00",
          "2021-02-14T00:00:00",
          "2021-02-15T00:00:00",
          "2021-02-16T00:00:00",
          "2021-02-17T00:00:00",
          "2021-02-18T00:00:00",
          "2021-02-19T00:00:00",
          "2021-02-20T00:00:00",
          "2021-02-21T00:00:00",
          "2021-02-22T00:00:00",
          "2021-02-23T00:00:00",
          "2021-02-24T00:00:00",
          "2021-02-25T00:00:00",
          "2021-02-26T00:00:00",
          "2021-02-27T00:00:00",
          "2021-02-28T00:00:00",
          "2021-03-01T00:00:00",
          "2021-03-02T00:00:00",
          "2021-03-03T00:00:00",
          "2021-03-04T00:00:00",
          "2021-03-05T00:00:00",
          "2021-03-06T00:00:00",
          "2021-03-07T00:00:00",
          "2021-03-08T00:00:00",
          "2021-03-09T00:00:00",
          "2021-03-10T00:00:00",
          "2021-03-11T00:00:00",
          "2021-03-12T00:00:00",
          "2021-03-13T00:00:00",
          "2021-03-14T00:00:00",
          "2021-03-15T00:00:00",
          "2021-03-16T00:00:00",
          "2021-03-17T00:00:00",
          "2021-03-18T00:00:00",
          "2021-03-19T00:00:00",
          "2021-03-20T00:00:00",
          "2021-03-21T00:00:00",
          "2021-03-22T00:00:00",
          "2021-03-23T00:00:00",
          "2021-03-24T00:00:00",
          "2021-03-25T00:00:00",
          "2021-03-26T00:00:00",
          "2021-03-27T00:00:00",
          "2021-03-28T00:00:00",
          "2021-03-29T00:00:00",
          "2021-03-30T00:00:00",
          "2021-03-31T00:00:00",
          "2021-04-01T00:00:00",
          "2021-04-02T00:00:00",
          "2021-04-03T00:00:00",
          "2021-04-04T00:00:00",
          "2021-04-05T00:00:00",
          "2021-04-06T00:00:00",
          "2021-04-07T00:00:00",
          "2021-04-08T00:00:00",
          "2021-04-09T00:00:00",
          "2021-04-10T00:00:00",
          "2021-04-11T00:00:00",
          "2021-04-12T00:00:00",
          "2021-04-13T00:00:00",
          "2021-04-14T00:00:00",
          "2021-04-15T00:00:00",
          "2021-04-16T00:00:00",
          "2021-04-17T00:00:00",
          "2021-04-18T00:00:00",
          "2021-04-19T00:00:00",
          "2021-04-20T00:00:00",
          "2021-04-21T00:00:00",
          "2021-04-22T00:00:00",
          "2021-04-23T00:00:00",
          "2021-04-24T00:00:00",
          "2021-04-25T00:00:00",
          "2021-04-26T00:00:00",
          "2021-04-27T00:00:00",
          "2021-04-28T00:00:00",
          "2021-04-29T00:00:00",
          "2021-04-30T00:00:00",
          "2021-05-01T00:00:00",
          "2021-05-02T00:00:00",
          "2021-05-03T00:00:00",
          "2021-05-04T00:00:00",
          "2021-05-05T00:00:00",
          "2021-05-06T00:00:00",
          "2021-05-07T00:00:00",
          "2021-05-08T00:00:00",
          "2021-05-09T00:00:00",
          "2021-05-10T00:00:00",
          "2021-05-11T00:00:00",
          "2021-05-12T00:00:00",
          "2021-05-13T00:00:00",
          "2021-05-14T00:00:00",
          "2021-05-15T00:00:00",
          "2021-05-16T00:00:00",
          "2021-05-17T00:00:00",
          "2021-05-18T00:00:00",
          "2021-05-19T00:00:00",
          "2021-05-20T00:00:00",
          "2021-05-21T00:00:00",
          "2021-05-22T00:00:00",
          "2021-05-23T00:00:00",
          "2021-05-24T00:00:00",
          "2021-05-25T00:00:00",
          "2021-05-26T00:00:00",
          "2021-05-27T00:00:00",
          "2021-05-28T00:00:00",
          "2021-05-29T00:00:00",
          "2021-05-30T00:00:00",
          "2021-05-31T00:00:00",
          "2021-06-01T00:00:00",
          "2021-06-02T00:00:00",
          "2021-06-03T00:00:00",
          "2021-06-04T00:00:00",
          "2021-06-05T00:00:00",
          "2021-06-06T00:00:00",
          "2021-06-07T00:00:00",
          "2021-06-08T00:00:00",
          "2021-06-09T00:00:00",
          "2021-06-10T00:00:00",
          "2021-06-11T00:00:00",
          "2021-06-12T00:00:00",
          "2021-06-13T00:00:00",
          "2021-06-14T00:00:00",
          "2021-06-15T00:00:00",
          "2021-06-16T00:00:00",
          "2021-06-17T00:00:00",
          "2021-06-18T00:00:00",
          "2021-06-19T00:00:00",
          "2021-06-20T00:00:00",
          "2021-06-21T00:00:00",
          "2021-06-22T00:00:00",
          "2021-06-23T00:00:00",
          "2021-06-24T00:00:00",
          "2021-06-25T00:00:00",
          "2021-06-26T00:00:00",
          "2021-06-27T00:00:00",
          "2021-06-28T00:00:00",
          "2021-06-29T00:00:00",
          "2021-06-30T00:00:00",
          "2021-07-01T00:00:00",
          "2021-07-02T00:00:00",
          "2021-07-03T00:00:00",
          "2021-07-04T00:00:00",
          "2021-07-05T00:00:00",
          "2021-07-06T00:00:00",
          "2021-07-07T00:00:00",
          "2021-07-08T00:00:00",
          "2021-07-09T00:00:00",
          "2021-07-10T00:00:00",
          "2021-07-11T00:00:00",
          "2021-07-12T00:00:00",
          "2021-07-13T00:00:00",
          "2021-07-14T00:00:00",
          "2021-07-15T00:00:00",
          "2021-07-16T00:00:00",
          "2021-07-17T00:00:00",
          "2021-07-18T00:00:00",
          "2021-07-19T00:00:00",
          "2021-07-20T00:00:00",
          "2021-07-21T00:00:00",
          "2021-07-22T00:00:00",
          "2021-07-23T00:00:00",
          "2021-07-24T00:00:00",
          "2021-07-25T00:00:00",
          "2021-07-26T00:00:00",
          "2021-07-27T00:00:00",
          "2021-07-28T00:00:00",
          "2021-07-29T00:00:00",
          "2021-07-30T00:00:00",
          "2021-07-31T00:00:00",
          "2021-08-01T00:00:00",
          "2021-08-02T00:00:00",
          "2021-08-03T00:00:00",
          "2021-08-04T00:00:00",
          "2021-08-05T00:00:00",
          "2021-08-06T00:00:00",
          "2021-08-07T00:00:00",
          "2021-08-08T00:00:00",
          "2021-08-09T00:00:00",
          "2021-08-10T00:00:00",
          "2021-08-11T00:00:00",
          "2021-08-12T00:00:00",
          "2021-08-13T00:00:00",
          "2021-08-14T00:00:00",
          "2021-08-15T00:00:00",
          "2021-08-16T00:00:00",
          "2021-08-17T00:00:00",
          "2021-08-18T00:00:00",
          "2021-08-19T00:00:00",
          "2021-08-20T00:00:00",
          "2021-08-21T00:00:00",
          "2021-08-22T00:00:00",
          "2021-08-23T00:00:00",
          "2021-08-24T00:00:00",
          "2021-08-25T00:00:00",
          "2021-08-26T00:00:00",
          "2021-08-27T00:00:00",
          "2021-08-28T00:00:00",
          "2021-08-29T00:00:00",
          "2021-08-30T00:00:00",
          "2021-08-31T00:00:00",
          "2021-09-01T00:00:00",
          "2021-09-02T00:00:00",
          "2021-09-03T00:00:00",
          "2021-09-04T00:00:00",
          "2021-09-05T00:00:00",
          "2021-09-06T00:00:00",
          "2021-09-07T00:00:00",
          "2021-09-08T00:00:00",
          "2021-09-09T00:00:00",
          "2021-09-10T00:00:00",
          "2021-09-11T00:00:00",
          "2021-09-12T00:00:00",
          "2021-09-13T00:00:00",
          "2021-09-14T00:00:00",
          "2021-09-15T00:00:00",
          "2021-09-16T00:00:00",
          "2021-09-17T00:00:00",
          "2021-09-18T00:00:00",
          "2021-09-19T00:00:00",
          "2021-09-20T00:00:00",
          "2021-09-21T00:00:00",
          "2021-09-22T00:00:00",
          "2021-09-23T00:00:00",
          "2021-09-24T00:00:00",
          "2021-09-25T00:00:00",
          "2021-09-26T00:00:00",
          "2021-09-27T00:00:00",
          "2021-09-28T00:00:00",
          "2021-09-29T00:00:00",
          "2021-09-30T00:00:00",
          "2021-10-01T00:00:00",
          "2021-10-02T00:00:00",
          "2021-10-03T00:00:00",
          "2021-10-04T00:00:00",
          "2021-10-05T00:00:00",
          "2021-10-06T00:00:00",
          "2021-10-07T00:00:00",
          "2021-10-08T00:00:00",
          "2021-10-09T00:00:00",
          "2021-10-10T00:00:00",
          "2021-10-11T00:00:00",
          "2021-10-12T00:00:00",
          "2021-10-13T00:00:00",
          "2021-10-14T00:00:00",
          "2021-10-15T00:00:00",
          "2021-10-16T00:00:00",
          "2021-10-17T00:00:00",
          "2021-10-18T00:00:00",
          "2021-10-19T00:00:00",
          "2021-10-20T00:00:00",
          "2021-10-21T00:00:00",
          "2021-10-22T00:00:00",
          "2021-10-23T00:00:00",
          "2021-10-24T00:00:00",
          "2021-10-25T00:00:00",
          "2021-10-26T00:00:00",
          "2021-10-27T00:00:00",
          "2021-10-28T00:00:00",
          "2021-10-29T00:00:00",
          "2021-10-30T00:00:00",
          "2021-10-31T00:00:00",
          "2021-11-01T00:00:00",
          "2021-11-02T00:00:00",
          "2021-11-03T00:00:00",
          "2021-11-04T00:00:00",
          "2021-11-05T00:00:00",
          "2021-11-06T00:00:00",
          "2021-11-07T00:00:00",
          "2021-11-08T00:00:00",
          "2021-11-09T00:00:00",
          "2021-11-10T00:00:00",
          "2021-11-11T00:00:00",
          "2021-11-12T00:00:00",
          "2021-11-13T00:00:00",
          "2021-11-14T00:00:00",
          "2021-11-15T00:00:00",
          "2021-11-16T00:00:00",
          "2021-11-17T00:00:00",
          "2021-11-18T00:00:00",
          "2021-11-19T00:00:00",
          "2021-11-20T00:00:00",
          "2021-11-21T00:00:00",
          "2021-11-22T00:00:00",
          "2021-11-23T00:00:00",
          "2021-11-24T00:00:00",
          "2021-11-25T00:00:00",
          "2021-11-26T00:00:00",
          "2021-11-27T00:00:00",
          "2021-11-28T00:00:00",
          "2021-11-29T00:00:00",
          "2021-11-30T00:00:00",
          "2021-12-01T00:00:00",
          "2021-12-02T00:00:00"
         ],
         "y": [
          3.1,
          2.95,
          2.9,
          2.833,
          4.4546,
          3.9779,
          4.5759,
          5.5412,
          6.0708,
          5.6547,
          6.1812,
          6.1333,
          5.8912,
          6.2718,
          6.239,
          6.1374,
          5.6743,
          5.1019,
          4.1456,
          4.784,
          4.5944,
          4.2787,
          4.7003,
          4.5796,
          4.6498,
          5.1385,
          5.3213,
          5.3555,
          5.0535,
          5.0712,
          5.3354,
          5.2616,
          4.924,
          4.6518,
          4.0691,
          4.1625,
          4.0077,
          4.3782,
          4.4139,
          4.3308,
          4.2962,
          4.4501,
          4.4969,
          4.3458,
          4.3468,
          4.1282,
          4.0607,
          4.177,
          4.1621,
          3.7465,
          3.8517,
          4.1163,
          4.2541,
          4.2606,
          4.245,
          4.3075,
          4.2473,
          4.1829,
          4.099,
          3.9106,
          3.9663,
          4.1068,
          3.986,
          3.9034,
          4.1352,
          4.2683,
          4.2633,
          4.3536,
          4.331,
          4.7031,
          4.6721,
          4.357,
          4.0605,
          4.0845,
          4.1854,
          4.2211,
          4.0316,
          4.0362,
          4.0969,
          4.2229,
          4.5826,
          4.2341,
          4.3736,
          4.3463,
          4.4231,
          4.4461,
          4.4042,
          4.5425,
          4.4637,
          4.3664,
          4.4983,
          4.8569,
          4.6797,
          4.7567,
          5.23,
          5.7824,
          5.524,
          5.9093,
          5.7334,
          5.3018,
          4.809,
          4.8151,
          4.8939,
          5.192,
          5.3767,
          5.0806,
          5.4645,
          5.3997,
          5,
          5.1806,
          5.1268,
          5.0569,
          4.7399,
          4.8728,
          4.8003,
          4.612,
          4.7385,
          4.8957,
          4.8969,
          5.2391,
          5.3647,
          5.3455,
          5.3549,
          5.3358,
          5.1868,
          4.8702,
          5.155,
          4.7149,
          5.1116,
          5.2099,
          5.1924,
          5.1455,
          6.5982,
          7.5402,
          7.2282,
          9.2619,
          8.2776,
          9.2037,
          10.1307,
          9.5126,
          9.7084,
          10.0679,
          9.6439,
          9.2998,
          9.7354,
          9.2911,
          8.2691,
          8.3078,
          10.9486,
          14.4867,
          13.1679,
          17.9893,
          17.0832,
          16.5898,
          16.3933,
          17.9808,
          15.9818,
          17.1207,
          18.7446,
          17.9745,
          17.207,
          17.1013,
          15.43,
          16.8643,
          16.7968,
          16.5349,
          16.1128,
          16.4385,
          17.1765,
          20.8538,
          19.6677,
          20.84,
          20.3734,
          19.7345,
          22.9853,
          23.0846,
          23.5821,
          25.0224,
          28.6555,
          27.9364,
          26.8724,
          27.8021,
          30.0832,
          31.9862,
          31.11,
          34.824,
          38.942,
          39.5863,
          37.6143,
          34.5325,
          33.6396,
          31.2341,
          31.4362,
          33.4575,
          33.8,
          35.6273,
          36.1393,
          37.0985,
          35.2166,
          33.6194,
          33.3596,
          35.095,
          34.9737,
          38.1882,
          37.5494,
          36.9026,
          35.9551,
          37.1418,
          36.4427,
          34.2963,
          35.3987,
          36.1036,
          35.3399,
          38.1735,
          37.2279,
          36.6851,
          35.2338,
          34.2174,
          30.2209,
          29.8059,
          33.1782,
          32.5884,
          32.2331,
          34.3403,
          33.9778,
          37.0765,
          37.461,
          41.0271,
          41.3802,
          44.3135,
          45.8003,
          43.35,
          39.5013,
          41.334,
          40.8085,
          41.5868,
          41.3196,
          40.46,
          42.9301,
          42.5171,
          43.4318,
          41.3898,
          42.0577,
          37.363,
          34.7373,
          35.4133,
          33.7953,
          32.9571,
          32.2323,
          28.9629,
          29.83,
          33.4,
          34.845,
          33.972,
          35.979,
          36.522,
          36.908,
          36.626,
          37.25,
          34.777,
          40.422,
          41.588,
          39.864,
          39.899,
          40.3,
          36.488,
          38.637,
          35.128,
          39.988,
          47.979,
          43.643,
          42.436,
          38.693,
          40.595,
          25.044,
          28.958,
          24.399,
          22.057,
          17.912,
          23.261,
          22.16,
          24.528,
          23.982,
          21.35,
          19.868,
          20.465,
          23.264,
          22.84,
          25.916,
          27.004,
          24.988,
          23.771,
          24.184,
          21.686,
          21.65,
          23.214,
          22.683,
          20.95,
          20.742,
          22.04,
          25.858,
          23.942,
          23.033,
          22.533,
          21.432,
          20.222,
          20.617,
          15.707,
          14.688,
          15.792,
          16.223,
          14.422,
          14.511,
          15.01,
          15.794,
          16.3,
          16.402,
          15.174,
          15.289,
          15.52,
          15.975,
          15.228,
          16.135,
          16.861,
          15.317,
          15.681,
          15.276,
          15.495,
          14.845,
          14.19,
          13.801,
          13.095,
          12.026,
          12.294,
          12.647,
          11.46,
          10.958,
          12.343,
          13.152,
          13.401,
          13.754,
          13.734,
          13.925,
          14.365,
          14.546,
          15.254,
          15.793,
          16.784,
          18.418,
          17.984,
          17.425,
          19.15,
          19.124,
          20.416,
          20.963,
          19.65,
          20.566,
          20.616,
          21.347,
          20.755,
          22.723,
          22.835,
          23.15,
          24.432,
          23.545,
          23.868,
          26.582,
          28.149,
          27.863,
          27.685,
          27.877,
          25.067,
          25.982,
          23.92,
          26.53,
          25.96,
          25.7,
          26.03,
          31.35,
          33.18,
          31.79,
          33.57,
          32.4,
          34.42,
          34.35,
          27.97,
          27.76,
          29.82,
          29.19,
          31.57,
          35.79,
          34.84,
          37.36,
          36.47,
          35.5,
          33.03,
          34.87,
          33.85,
          28.31,
          26.39,
          31.6,
          33.41,
          30.79,
          29.82,
          28.84,
          27.71,
          26.31,
          27.28,
          28.62,
          31.94,
          32.01,
          32.11,
          31.15,
          31.39,
          32.19,
          33.98,
          33.35,
          36.33,
          34.43,
          34.13,
          35.17,
          41.69,
          40.71,
          43.28,
          41.75,
          42.12,
          41.17,
          41.34,
          44.42,
          42.84,
          43.51,
          43.95,
          42.31,
          44.55,
          44.93,
          40.44,
          41.82,
          44.2,
          42.73,
          42.77,
          49.98,
          51.66,
          53.34,
          53.82,
          51.76,
          52.02,
          52.22,
          53.36,
          50.78,
          46.74,
          47.44,
          45.9,
          47.07,
          46.39,
          44.77,
          40.84,
          42.75,
          39.03,
          41.24,
          42.1,
          41.94,
          39.49,
          40.78,
          38.28,
          39.47,
          34.56,
          35.16,
          35.76,
          37.1,
          37.95,
          36.76,
          35.75
         ]
        },
        {
         "mode": "lines+markers",
         "name": "Test data",
         "type": "scatter",
         "x": [
          "2021-12-03T00:00:00",
          "2021-12-04T00:00:00",
          "2021-12-05T00:00:00",
          "2021-12-06T00:00:00",
          "2021-12-07T00:00:00",
          "2021-12-08T00:00:00",
          "2021-12-09T00:00:00",
          "2021-12-10T00:00:00",
          "2021-12-11T00:00:00",
          "2021-12-12T00:00:00",
          "2021-12-13T00:00:00",
          "2021-12-14T00:00:00",
          "2021-12-15T00:00:00",
          "2021-12-16T00:00:00",
          "2021-12-17T00:00:00",
          "2021-12-18T00:00:00",
          "2021-12-19T00:00:00",
          "2021-12-20T00:00:00",
          "2021-12-21T00:00:00",
          "2021-12-22T00:00:00",
          "2021-12-23T00:00:00",
          "2021-12-24T00:00:00",
          "2021-12-25T00:00:00",
          "2021-12-26T00:00:00",
          "2021-12-27T00:00:00",
          "2021-12-28T00:00:00",
          "2021-12-29T00:00:00",
          "2021-12-30T00:00:00",
          "2021-12-31T00:00:00",
          "2022-01-01T00:00:00",
          "2022-01-02T00:00:00",
          "2022-01-03T00:00:00",
          "2022-01-04T00:00:00",
          "2022-01-05T00:00:00",
          "2022-01-06T00:00:00",
          "2022-01-07T00:00:00",
          "2022-01-08T00:00:00",
          "2022-01-09T00:00:00",
          "2022-01-10T00:00:00",
          "2022-01-11T00:00:00",
          "2022-01-12T00:00:00",
          "2022-01-13T00:00:00",
          "2022-01-14T00:00:00",
          "2022-01-15T00:00:00",
          "2022-01-16T00:00:00",
          "2022-01-17T00:00:00",
          "2022-01-18T00:00:00",
          "2022-01-19T00:00:00",
          "2022-01-20T00:00:00",
          "2022-01-21T00:00:00",
          "2022-01-22T00:00:00",
          "2022-01-23T00:00:00",
          "2022-01-24T00:00:00"
         ],
         "y": [
          33.7,
          29.38,
          28.31,
          28.13,
          30.5,
          29.84,
          26.9,
          26.44,
          27.81,
          29.54,
          25.96,
          26.15,
          27.14,
          26.02,
          24.64,
          25.49,
          24.78,
          24.07,
          25.16,
          27.22,
          29.16,
          28.14,
          28.84,
          31.32,
          30.97,
          27.83,
          26.82,
          27.54,
          26.66,
          28.6,
          29.69,
          30.11,
          28.69,
          26.72,
          26.72,
          24.9,
          23.99,
          24.63,
          23.72,
          25.56,
          27.32,
          25.79,
          27.75,
          27.6,
          27.7,
          25.69,
          25.15,
          24.05,
          23.01,
          19.67,
          18.27,
          18.81,
          16.75
         ]
        }
       ],
       "layout": {
        "template": {
         "data": {
          "bar": [
           {
            "error_x": {
             "color": "#2a3f5f"
            },
            "error_y": {
             "color": "#2a3f5f"
            },
            "marker": {
             "line": {
              "color": "#E5ECF6",
              "width": 0.5
             },
             "pattern": {
              "fillmode": "overlay",
              "size": 10,
              "solidity": 0.2
             }
            },
            "type": "bar"
           }
          ],
          "barpolar": [
           {
            "marker": {
             "line": {
              "color": "#E5ECF6",
              "width": 0.5
             },
             "pattern": {
              "fillmode": "overlay",
              "size": 10,
              "solidity": 0.2
             }
            },
            "type": "barpolar"
           }
          ],
          "carpet": [
           {
            "aaxis": {
             "endlinecolor": "#2a3f5f",
             "gridcolor": "white",
             "linecolor": "white",
             "minorgridcolor": "white",
             "startlinecolor": "#2a3f5f"
            },
            "baxis": {
             "endlinecolor": "#2a3f5f",
             "gridcolor": "white",
             "linecolor": "white",
             "minorgridcolor": "white",
             "startlinecolor": "#2a3f5f"
            },
            "type": "carpet"
           }
          ],
          "choropleth": [
           {
            "colorbar": {
             "outlinewidth": 0,
             "ticks": ""
            },
            "type": "choropleth"
           }
          ],
          "contour": [
           {
            "colorbar": {
             "outlinewidth": 0,
             "ticks": ""
            },
            "colorscale": [
             [
              0,
              "#0d0887"
             ],
             [
              0.1111111111111111,
              "#46039f"
             ],
             [
              0.2222222222222222,
              "#7201a8"
             ],
             [
              0.3333333333333333,
              "#9c179e"
             ],
             [
              0.4444444444444444,
              "#bd3786"
             ],
             [
              0.5555555555555556,
              "#d8576b"
             ],
             [
              0.6666666666666666,
              "#ed7953"
             ],
             [
              0.7777777777777778,
              "#fb9f3a"
             ],
             [
              0.8888888888888888,
              "#fdca26"
             ],
             [
              1,
              "#f0f921"
             ]
            ],
            "type": "contour"
           }
          ],
          "contourcarpet": [
           {
            "colorbar": {
             "outlinewidth": 0,
             "ticks": ""
            },
            "type": "contourcarpet"
           }
          ],
          "heatmap": [
           {
            "colorbar": {
             "outlinewidth": 0,
             "ticks": ""
            },
            "colorscale": [
             [
              0,
              "#0d0887"
             ],
             [
              0.1111111111111111,
              "#46039f"
             ],
             [
              0.2222222222222222,
              "#7201a8"
             ],
             [
              0.3333333333333333,
              "#9c179e"
             ],
             [
              0.4444444444444444,
              "#bd3786"
             ],
             [
              0.5555555555555556,
              "#d8576b"
             ],
             [
              0.6666666666666666,
              "#ed7953"
             ],
             [
              0.7777777777777778,
              "#fb9f3a"
             ],
             [
              0.8888888888888888,
              "#fdca26"
             ],
             [
              1,
              "#f0f921"
             ]
            ],
            "type": "heatmap"
           }
          ],
          "heatmapgl": [
           {
            "colorbar": {
             "outlinewidth": 0,
             "ticks": ""
            },
            "colorscale": [
             [
              0,
              "#0d0887"
             ],
             [
              0.1111111111111111,
              "#46039f"
             ],
             [
              0.2222222222222222,
              "#7201a8"
             ],
             [
              0.3333333333333333,
              "#9c179e"
             ],
             [
              0.4444444444444444,
              "#bd3786"
             ],
             [
              0.5555555555555556,
              "#d8576b"
             ],
             [
              0.6666666666666666,
              "#ed7953"
             ],
             [
              0.7777777777777778,
              "#fb9f3a"
             ],
             [
              0.8888888888888888,
              "#fdca26"
             ],
             [
              1,
              "#f0f921"
             ]
            ],
            "type": "heatmapgl"
           }
          ],
          "histogram": [
           {
            "marker": {
             "pattern": {
              "fillmode": "overlay",
              "size": 10,
              "solidity": 0.2
             }
            },
            "type": "histogram"
           }
          ],
          "histogram2d": [
           {
            "colorbar": {
             "outlinewidth": 0,
             "ticks": ""
            },
            "colorscale": [
             [
              0,
              "#0d0887"
             ],
             [
              0.1111111111111111,
              "#46039f"
             ],
             [
              0.2222222222222222,
              "#7201a8"
             ],
             [
              0.3333333333333333,
              "#9c179e"
             ],
             [
              0.4444444444444444,
              "#bd3786"
             ],
             [
              0.5555555555555556,
              "#d8576b"
             ],
             [
              0.6666666666666666,
              "#ed7953"
             ],
             [
              0.7777777777777778,
              "#fb9f3a"
             ],
             [
              0.8888888888888888,
              "#fdca26"
             ],
             [
              1,
              "#f0f921"
             ]
            ],
            "type": "histogram2d"
           }
          ],
          "histogram2dcontour": [
           {
            "colorbar": {
             "outlinewidth": 0,
             "ticks": ""
            },
            "colorscale": [
             [
              0,
              "#0d0887"
             ],
             [
              0.1111111111111111,
              "#46039f"
             ],
             [
              0.2222222222222222,
              "#7201a8"
             ],
             [
              0.3333333333333333,
              "#9c179e"
             ],
             [
              0.4444444444444444,
              "#bd3786"
             ],
             [
              0.5555555555555556,
              "#d8576b"
             ],
             [
              0.6666666666666666,
              "#ed7953"
             ],
             [
              0.7777777777777778,
              "#fb9f3a"
             ],
             [
              0.8888888888888888,
              "#fdca26"
             ],
             [
              1,
              "#f0f921"
             ]
            ],
            "type": "histogram2dcontour"
           }
          ],
          "mesh3d": [
           {
            "colorbar": {
             "outlinewidth": 0,
             "ticks": ""
            },
            "type": "mesh3d"
           }
          ],
          "parcoords": [
           {
            "line": {
             "colorbar": {
              "outlinewidth": 0,
              "ticks": ""
             }
            },
            "type": "parcoords"
           }
          ],
          "pie": [
           {
            "automargin": true,
            "type": "pie"
           }
          ],
          "scatter": [
           {
            "marker": {
             "colorbar": {
              "outlinewidth": 0,
              "ticks": ""
             }
            },
            "type": "scatter"
           }
          ],
          "scatter3d": [
           {
            "line": {
             "colorbar": {
              "outlinewidth": 0,
              "ticks": ""
             }
            },
            "marker": {
             "colorbar": {
              "outlinewidth": 0,
              "ticks": ""
             }
            },
            "type": "scatter3d"
           }
          ],
          "scattercarpet": [
           {
            "marker": {
             "colorbar": {
              "outlinewidth": 0,
              "ticks": ""
             }
            },
            "type": "scattercarpet"
           }
          ],
          "scattergeo": [
           {
            "marker": {
             "colorbar": {
              "outlinewidth": 0,
              "ticks": ""
             }
            },
            "type": "scattergeo"
           }
          ],
          "scattergl": [
           {
            "marker": {
             "colorbar": {
              "outlinewidth": 0,
              "ticks": ""
             }
            },
            "type": "scattergl"
           }
          ],
          "scattermapbox": [
           {
            "marker": {
             "colorbar": {
              "outlinewidth": 0,
              "ticks": ""
             }
            },
            "type": "scattermapbox"
           }
          ],
          "scatterpolar": [
           {
            "marker": {
             "colorbar": {
              "outlinewidth": 0,
              "ticks": ""
             }
            },
            "type": "scatterpolar"
           }
          ],
          "scatterpolargl": [
           {
            "marker": {
             "colorbar": {
              "outlinewidth": 0,
              "ticks": ""
             }
            },
            "type": "scatterpolargl"
           }
          ],
          "scatterternary": [
           {
            "marker": {
             "colorbar": {
              "outlinewidth": 0,
              "ticks": ""
             }
            },
            "type": "scatterternary"
           }
          ],
          "surface": [
           {
            "colorbar": {
             "outlinewidth": 0,
             "ticks": ""
            },
            "colorscale": [
             [
              0,
              "#0d0887"
             ],
             [
              0.1111111111111111,
              "#46039f"
             ],
             [
              0.2222222222222222,
              "#7201a8"
             ],
             [
              0.3333333333333333,
              "#9c179e"
             ],
             [
              0.4444444444444444,
              "#bd3786"
             ],
             [
              0.5555555555555556,
              "#d8576b"
             ],
             [
              0.6666666666666666,
              "#ed7953"
             ],
             [
              0.7777777777777778,
              "#fb9f3a"
             ],
             [
              0.8888888888888888,
              "#fdca26"
             ],
             [
              1,
              "#f0f921"
             ]
            ],
            "type": "surface"
           }
          ],
          "table": [
           {
            "cells": {
             "fill": {
              "color": "#EBF0F8"
             },
             "line": {
              "color": "white"
             }
            },
            "header": {
             "fill": {
              "color": "#C8D4E3"
             },
             "line": {
              "color": "white"
             }
            },
            "type": "table"
           }
          ]
         },
         "layout": {
          "annotationdefaults": {
           "arrowcolor": "#2a3f5f",
           "arrowhead": 0,
           "arrowwidth": 1
          },
          "autotypenumbers": "strict",
          "coloraxis": {
           "colorbar": {
            "outlinewidth": 0,
            "ticks": ""
           }
          },
          "colorscale": {
           "diverging": [
            [
             0,
             "#8e0152"
            ],
            [
             0.1,
             "#c51b7d"
            ],
            [
             0.2,
             "#de77ae"
            ],
            [
             0.3,
             "#f1b6da"
            ],
            [
             0.4,
             "#fde0ef"
            ],
            [
             0.5,
             "#f7f7f7"
            ],
            [
             0.6,
             "#e6f5d0"
            ],
            [
             0.7,
             "#b8e186"
            ],
            [
             0.8,
             "#7fbc41"
            ],
            [
             0.9,
             "#4d9221"
            ],
            [
             1,
             "#276419"
            ]
           ],
           "sequential": [
            [
             0,
             "#0d0887"
            ],
            [
             0.1111111111111111,
             "#46039f"
            ],
            [
             0.2222222222222222,
             "#7201a8"
            ],
            [
             0.3333333333333333,
             "#9c179e"
            ],
            [
             0.4444444444444444,
             "#bd3786"
            ],
            [
             0.5555555555555556,
             "#d8576b"
            ],
            [
             0.6666666666666666,
             "#ed7953"
            ],
            [
             0.7777777777777778,
             "#fb9f3a"
            ],
            [
             0.8888888888888888,
             "#fdca26"
            ],
            [
             1,
             "#f0f921"
            ]
           ],
           "sequentialminus": [
            [
             0,
             "#0d0887"
            ],
            [
             0.1111111111111111,
             "#46039f"
            ],
            [
             0.2222222222222222,
             "#7201a8"
            ],
            [
             0.3333333333333333,
             "#9c179e"
            ],
            [
             0.4444444444444444,
             "#bd3786"
            ],
            [
             0.5555555555555556,
             "#d8576b"
            ],
            [
             0.6666666666666666,
             "#ed7953"
            ],
            [
             0.7777777777777778,
             "#fb9f3a"
            ],
            [
             0.8888888888888888,
             "#fdca26"
            ],
            [
             1,
             "#f0f921"
            ]
           ]
          },
          "colorway": [
           "#636efa",
           "#EF553B",
           "#00cc96",
           "#ab63fa",
           "#FFA15A",
           "#19d3f3",
           "#FF6692",
           "#B6E880",
           "#FF97FF",
           "#FECB52"
          ],
          "font": {
           "color": "#2a3f5f"
          },
          "geo": {
           "bgcolor": "white",
           "lakecolor": "white",
           "landcolor": "#E5ECF6",
           "showlakes": true,
           "showland": true,
           "subunitcolor": "white"
          },
          "hoverlabel": {
           "align": "left"
          },
          "hovermode": "closest",
          "mapbox": {
           "style": "light"
          },
          "paper_bgcolor": "white",
          "plot_bgcolor": "#E5ECF6",
          "polar": {
           "angularaxis": {
            "gridcolor": "white",
            "linecolor": "white",
            "ticks": ""
           },
           "bgcolor": "#E5ECF6",
           "radialaxis": {
            "gridcolor": "white",
            "linecolor": "white",
            "ticks": ""
           }
          },
          "scene": {
           "xaxis": {
            "backgroundcolor": "#E5ECF6",
            "gridcolor": "white",
            "gridwidth": 2,
            "linecolor": "white",
            "showbackground": true,
            "ticks": "",
            "zerolinecolor": "white"
           },
           "yaxis": {
            "backgroundcolor": "#E5ECF6",
            "gridcolor": "white",
            "gridwidth": 2,
            "linecolor": "white",
            "showbackground": true,
            "ticks": "",
            "zerolinecolor": "white"
           },
           "zaxis": {
            "backgroundcolor": "#E5ECF6",
            "gridcolor": "white",
            "gridwidth": 2,
            "linecolor": "white",
            "showbackground": true,
            "ticks": "",
            "zerolinecolor": "white"
           }
          },
          "shapedefaults": {
           "line": {
            "color": "#2a3f5f"
           }
          },
          "ternary": {
           "aaxis": {
            "gridcolor": "white",
            "linecolor": "white",
            "ticks": ""
           },
           "baxis": {
            "gridcolor": "white",
            "linecolor": "white",
            "ticks": ""
           },
           "bgcolor": "#E5ECF6",
           "caxis": {
            "gridcolor": "white",
            "linecolor": "white",
            "ticks": ""
           }
          },
          "title": {
           "x": 0.05
          },
          "xaxis": {
           "automargin": true,
           "gridcolor": "white",
           "linecolor": "white",
           "ticks": "",
           "title": {
            "standoff": 15
           },
           "zerolinecolor": "white",
           "zerolinewidth": 2
          },
          "yaxis": {
           "automargin": true,
           "gridcolor": "white",
           "linecolor": "white",
           "ticks": "",
           "title": {
            "standoff": 15
           },
           "zerolinecolor": "white",
           "zerolinewidth": 2
          }
         }
        },
        "title": {
         "text": "DOT ACTUAL PRICES",
         "x": 0.5
        },
        "xaxis": {
         "title": {
          "text": "Date"
         }
        },
        "yaxis": {
         "title": {
          "text": "CLOSING PRICES"
         }
        }
       }
      }
     },
     "metadata": {},
     "output_type": "display_data"
    }
   ],
   "source": [
    "\n",
    "# Using plotly.express\n",
    "import plotly.graph_objects as go\n",
    "import plotly.express as px\n",
    "\n",
    "\n",
    "# Visualization\n",
    "fig = go.Figure()\n",
    "fig.add_trace(go.Scatter(x= df[0:to_row][\"Price\"].index, y= df[0:to_row][\"Price\"],\n",
    "                    mode='lines+markers',\n",
    "                    name='Train data'))\n",
    "fig.add_trace(go.Scatter(x=df[to_row:][\"Price\"].index, y=df[to_row:][\"Price\"],\n",
    "                    mode='lines+markers',\n",
    "                    name='Test data'))\n",
    "# Edit the layout\n",
    "fig.update_layout(title='DOT ACTUAL PRICES', title_x =0.5,\n",
    "                   xaxis_title='Date',\n",
    "                   yaxis_title='CLOSING PRICES')\n",
    "\n",
    "fig.show()"
   ]
  },
  {
   "cell_type": "markdown",
   "metadata": {},
   "source": [
    "11.BUILD MODEL PREDICT"
   ]
  },
  {
   "cell_type": "code",
   "execution_count": 757,
   "metadata": {},
   "outputs": [],
   "source": [
    "# Build model prediction\n",
    "\n",
    "model_predictions = []\n",
    "test_obser = len(test)\n",
    "\n",
    "for i in range(test_obser):\n",
    "    model = sm.tsa.arima.ARIMA(train, order=(1, 1, 1))\n",
    "    model_fit = model.fit()\n",
    "    output = model_fit.forecast()\n",
    "    model_predictions.append(output[0])\n",
    "    train.append(test[i])\n",
    "    "
   ]
  },
  {
   "cell_type": "code",
   "execution_count": 758,
   "metadata": {},
   "outputs": [
    {
     "name": "stdout",
     "output_type": "stream",
     "text": [
      "                               SARIMAX Results                                \n",
      "==============================================================================\n",
      "Dep. Variable:                      y   No. Observations:                  524\n",
      "Model:                 ARIMA(1, 1, 1)   Log Likelihood               -1057.584\n",
      "Date:                Tue, 25 Jan 2022   AIC                           2121.168\n",
      "Time:                        00:16:26   BIC                           2133.946\n",
      "Sample:                             0   HQIC                          2126.172\n",
      "                                - 524                                         \n",
      "Covariance Type:                  opg                                         \n",
      "==============================================================================\n",
      "                 coef    std err          z      P>|z|      [0.025      0.975]\n",
      "------------------------------------------------------------------------------\n",
      "ar.L1         -0.8484      0.094     -9.064      0.000      -1.032      -0.665\n",
      "ma.L1          0.7805      0.107      7.269      0.000       0.570       0.991\n",
      "sigma2         3.3413      0.089     37.732      0.000       3.168       3.515\n",
      "===================================================================================\n",
      "Ljung-Box (L1) (Q):                   0.03   Jarque-Bera (JB):              2581.04\n",
      "Prob(Q):                              0.87   Prob(JB):                         0.00\n",
      "Heteroskedasticity (H):               6.27   Skew:                            -0.79\n",
      "Prob(H) (two-sided):                  0.00   Kurtosis:                        13.77\n",
      "===================================================================================\n",
      "\n",
      "Warnings:\n",
      "[1] Covariance matrix calculated using the outer product of gradients (complex-step).\n"
     ]
    }
   ],
   "source": [
    "#Print summary\n",
    "print(model_fit.summary())"
   ]
  },
  {
   "cell_type": "code",
   "execution_count": 759,
   "metadata": {},
   "outputs": [
    {
     "data": {
      "application/vnd.plotly.v1+json": {
       "config": {
        "plotlyServerURL": "https://plot.ly"
       },
       "data": [
        {
         "mode": "lines+markers",
         "name": "prices predicted data",
         "type": "scatter",
         "x": [
          "2021-12-03T00:00:00",
          "2021-12-04T00:00:00",
          "2021-12-05T00:00:00",
          "2021-12-06T00:00:00",
          "2021-12-07T00:00:00",
          "2021-12-08T00:00:00",
          "2021-12-09T00:00:00",
          "2021-12-10T00:00:00",
          "2021-12-11T00:00:00",
          "2021-12-12T00:00:00",
          "2021-12-13T00:00:00",
          "2021-12-14T00:00:00",
          "2021-12-15T00:00:00",
          "2021-12-16T00:00:00",
          "2021-12-17T00:00:00",
          "2021-12-18T00:00:00",
          "2021-12-19T00:00:00",
          "2021-12-20T00:00:00",
          "2021-12-21T00:00:00",
          "2021-12-22T00:00:00",
          "2021-12-23T00:00:00",
          "2021-12-24T00:00:00",
          "2021-12-25T00:00:00",
          "2021-12-26T00:00:00",
          "2021-12-27T00:00:00",
          "2021-12-28T00:00:00",
          "2021-12-29T00:00:00",
          "2021-12-30T00:00:00",
          "2021-12-31T00:00:00",
          "2022-01-01T00:00:00",
          "2022-01-02T00:00:00",
          "2022-01-03T00:00:00",
          "2022-01-04T00:00:00",
          "2022-01-05T00:00:00",
          "2022-01-06T00:00:00",
          "2022-01-07T00:00:00",
          "2022-01-08T00:00:00",
          "2022-01-09T00:00:00",
          "2022-01-10T00:00:00",
          "2022-01-11T00:00:00",
          "2022-01-12T00:00:00",
          "2022-01-13T00:00:00",
          "2022-01-14T00:00:00",
          "2022-01-15T00:00:00",
          "2022-01-16T00:00:00",
          "2022-01-17T00:00:00",
          "2022-01-18T00:00:00",
          "2022-01-19T00:00:00",
          "2022-01-20T00:00:00",
          "2022-01-21T00:00:00",
          "2022-01-22T00:00:00",
          "2022-01-23T00:00:00",
          "2022-01-24T00:00:00"
         ],
         "y": [
          35.917645862254886,
          33.74369376956135,
          29.6958021683506,
          28.1511560880798,
          28.266357137063157,
          30.21029245168713,
          30.116020955533223,
          26.913351253922187,
          26.465032149300917,
          27.687143130910346,
          29.5056949568212,
          26.25993579335693,
          25.905142167312754,
          27.25276309856611,
          26.01635395209366,
          24.745088105784838,
          25.345560187923244,
          24.944685739828905,
          23.99585993541012,
          25.136360248971513,
          27.086196072543522,
          29.121494155571067,
          28.244671206850622,
          28.70738843274315,
          31.24210640330965,
          31.055720689379907,
          27.988214265450438,
          26.769601701825327,
          27.528319611693274,
          26.731278475992383,
          28.406239055877883,
          29.762314661040893,
          30.024161118887932,
          28.857295495876297,
          26.72868353613725,
          26.713244402942436,
          25.032785347505165,
          23.95078019259444,
          24.61613963249407,
          23.793905515517334,
          25.37376665470931,
          27.342071453359473,
          25.877998042361703,
          27.54464310896197,
          27.769862127676735,
          27.561145888845672,
          25.939451371138876,
          24.99494079808785,
          24.247884252886376,
          22.92937724260587,
          19.965843679365996,
          18.13805335877019,
          18.87582422750162
         ]
        },
        {
         "mode": "lines+markers",
         "name": "Test data",
         "type": "scatter",
         "x": [
          "2021-12-03T00:00:00",
          "2021-12-04T00:00:00",
          "2021-12-05T00:00:00",
          "2021-12-06T00:00:00",
          "2021-12-07T00:00:00",
          "2021-12-08T00:00:00",
          "2021-12-09T00:00:00",
          "2021-12-10T00:00:00",
          "2021-12-11T00:00:00",
          "2021-12-12T00:00:00",
          "2021-12-13T00:00:00",
          "2021-12-14T00:00:00",
          "2021-12-15T00:00:00",
          "2021-12-16T00:00:00",
          "2021-12-17T00:00:00",
          "2021-12-18T00:00:00",
          "2021-12-19T00:00:00",
          "2021-12-20T00:00:00",
          "2021-12-21T00:00:00",
          "2021-12-22T00:00:00",
          "2021-12-23T00:00:00",
          "2021-12-24T00:00:00",
          "2021-12-25T00:00:00",
          "2021-12-26T00:00:00",
          "2021-12-27T00:00:00",
          "2021-12-28T00:00:00",
          "2021-12-29T00:00:00",
          "2021-12-30T00:00:00",
          "2021-12-31T00:00:00",
          "2022-01-01T00:00:00",
          "2022-01-02T00:00:00",
          "2022-01-03T00:00:00",
          "2022-01-04T00:00:00",
          "2022-01-05T00:00:00",
          "2022-01-06T00:00:00",
          "2022-01-07T00:00:00",
          "2022-01-08T00:00:00",
          "2022-01-09T00:00:00",
          "2022-01-10T00:00:00",
          "2022-01-11T00:00:00",
          "2022-01-12T00:00:00",
          "2022-01-13T00:00:00",
          "2022-01-14T00:00:00",
          "2022-01-15T00:00:00",
          "2022-01-16T00:00:00",
          "2022-01-17T00:00:00",
          "2022-01-18T00:00:00",
          "2022-01-19T00:00:00",
          "2022-01-20T00:00:00",
          "2022-01-21T00:00:00",
          "2022-01-22T00:00:00",
          "2022-01-23T00:00:00",
          "2022-01-24T00:00:00"
         ],
         "y": [
          33.7,
          29.38,
          28.31,
          28.13,
          30.5,
          29.84,
          26.9,
          26.44,
          27.81,
          29.54,
          25.96,
          26.15,
          27.14,
          26.02,
          24.64,
          25.49,
          24.78,
          24.07,
          25.16,
          27.22,
          29.16,
          28.14,
          28.84,
          31.32,
          30.97,
          27.83,
          26.82,
          27.54,
          26.66,
          28.6,
          29.69,
          30.11,
          28.69,
          26.72,
          26.72,
          24.9,
          23.99,
          24.63,
          23.72,
          25.56,
          27.32,
          25.79,
          27.75,
          27.6,
          27.7,
          25.69,
          25.15,
          24.05,
          23.01,
          19.67,
          18.27,
          18.81,
          16.75
         ]
        }
       ],
       "layout": {
        "template": {
         "data": {
          "bar": [
           {
            "error_x": {
             "color": "#2a3f5f"
            },
            "error_y": {
             "color": "#2a3f5f"
            },
            "marker": {
             "line": {
              "color": "#E5ECF6",
              "width": 0.5
             },
             "pattern": {
              "fillmode": "overlay",
              "size": 10,
              "solidity": 0.2
             }
            },
            "type": "bar"
           }
          ],
          "barpolar": [
           {
            "marker": {
             "line": {
              "color": "#E5ECF6",
              "width": 0.5
             },
             "pattern": {
              "fillmode": "overlay",
              "size": 10,
              "solidity": 0.2
             }
            },
            "type": "barpolar"
           }
          ],
          "carpet": [
           {
            "aaxis": {
             "endlinecolor": "#2a3f5f",
             "gridcolor": "white",
             "linecolor": "white",
             "minorgridcolor": "white",
             "startlinecolor": "#2a3f5f"
            },
            "baxis": {
             "endlinecolor": "#2a3f5f",
             "gridcolor": "white",
             "linecolor": "white",
             "minorgridcolor": "white",
             "startlinecolor": "#2a3f5f"
            },
            "type": "carpet"
           }
          ],
          "choropleth": [
           {
            "colorbar": {
             "outlinewidth": 0,
             "ticks": ""
            },
            "type": "choropleth"
           }
          ],
          "contour": [
           {
            "colorbar": {
             "outlinewidth": 0,
             "ticks": ""
            },
            "colorscale": [
             [
              0,
              "#0d0887"
             ],
             [
              0.1111111111111111,
              "#46039f"
             ],
             [
              0.2222222222222222,
              "#7201a8"
             ],
             [
              0.3333333333333333,
              "#9c179e"
             ],
             [
              0.4444444444444444,
              "#bd3786"
             ],
             [
              0.5555555555555556,
              "#d8576b"
             ],
             [
              0.6666666666666666,
              "#ed7953"
             ],
             [
              0.7777777777777778,
              "#fb9f3a"
             ],
             [
              0.8888888888888888,
              "#fdca26"
             ],
             [
              1,
              "#f0f921"
             ]
            ],
            "type": "contour"
           }
          ],
          "contourcarpet": [
           {
            "colorbar": {
             "outlinewidth": 0,
             "ticks": ""
            },
            "type": "contourcarpet"
           }
          ],
          "heatmap": [
           {
            "colorbar": {
             "outlinewidth": 0,
             "ticks": ""
            },
            "colorscale": [
             [
              0,
              "#0d0887"
             ],
             [
              0.1111111111111111,
              "#46039f"
             ],
             [
              0.2222222222222222,
              "#7201a8"
             ],
             [
              0.3333333333333333,
              "#9c179e"
             ],
             [
              0.4444444444444444,
              "#bd3786"
             ],
             [
              0.5555555555555556,
              "#d8576b"
             ],
             [
              0.6666666666666666,
              "#ed7953"
             ],
             [
              0.7777777777777778,
              "#fb9f3a"
             ],
             [
              0.8888888888888888,
              "#fdca26"
             ],
             [
              1,
              "#f0f921"
             ]
            ],
            "type": "heatmap"
           }
          ],
          "heatmapgl": [
           {
            "colorbar": {
             "outlinewidth": 0,
             "ticks": ""
            },
            "colorscale": [
             [
              0,
              "#0d0887"
             ],
             [
              0.1111111111111111,
              "#46039f"
             ],
             [
              0.2222222222222222,
              "#7201a8"
             ],
             [
              0.3333333333333333,
              "#9c179e"
             ],
             [
              0.4444444444444444,
              "#bd3786"
             ],
             [
              0.5555555555555556,
              "#d8576b"
             ],
             [
              0.6666666666666666,
              "#ed7953"
             ],
             [
              0.7777777777777778,
              "#fb9f3a"
             ],
             [
              0.8888888888888888,
              "#fdca26"
             ],
             [
              1,
              "#f0f921"
             ]
            ],
            "type": "heatmapgl"
           }
          ],
          "histogram": [
           {
            "marker": {
             "pattern": {
              "fillmode": "overlay",
              "size": 10,
              "solidity": 0.2
             }
            },
            "type": "histogram"
           }
          ],
          "histogram2d": [
           {
            "colorbar": {
             "outlinewidth": 0,
             "ticks": ""
            },
            "colorscale": [
             [
              0,
              "#0d0887"
             ],
             [
              0.1111111111111111,
              "#46039f"
             ],
             [
              0.2222222222222222,
              "#7201a8"
             ],
             [
              0.3333333333333333,
              "#9c179e"
             ],
             [
              0.4444444444444444,
              "#bd3786"
             ],
             [
              0.5555555555555556,
              "#d8576b"
             ],
             [
              0.6666666666666666,
              "#ed7953"
             ],
             [
              0.7777777777777778,
              "#fb9f3a"
             ],
             [
              0.8888888888888888,
              "#fdca26"
             ],
             [
              1,
              "#f0f921"
             ]
            ],
            "type": "histogram2d"
           }
          ],
          "histogram2dcontour": [
           {
            "colorbar": {
             "outlinewidth": 0,
             "ticks": ""
            },
            "colorscale": [
             [
              0,
              "#0d0887"
             ],
             [
              0.1111111111111111,
              "#46039f"
             ],
             [
              0.2222222222222222,
              "#7201a8"
             ],
             [
              0.3333333333333333,
              "#9c179e"
             ],
             [
              0.4444444444444444,
              "#bd3786"
             ],
             [
              0.5555555555555556,
              "#d8576b"
             ],
             [
              0.6666666666666666,
              "#ed7953"
             ],
             [
              0.7777777777777778,
              "#fb9f3a"
             ],
             [
              0.8888888888888888,
              "#fdca26"
             ],
             [
              1,
              "#f0f921"
             ]
            ],
            "type": "histogram2dcontour"
           }
          ],
          "mesh3d": [
           {
            "colorbar": {
             "outlinewidth": 0,
             "ticks": ""
            },
            "type": "mesh3d"
           }
          ],
          "parcoords": [
           {
            "line": {
             "colorbar": {
              "outlinewidth": 0,
              "ticks": ""
             }
            },
            "type": "parcoords"
           }
          ],
          "pie": [
           {
            "automargin": true,
            "type": "pie"
           }
          ],
          "scatter": [
           {
            "marker": {
             "colorbar": {
              "outlinewidth": 0,
              "ticks": ""
             }
            },
            "type": "scatter"
           }
          ],
          "scatter3d": [
           {
            "line": {
             "colorbar": {
              "outlinewidth": 0,
              "ticks": ""
             }
            },
            "marker": {
             "colorbar": {
              "outlinewidth": 0,
              "ticks": ""
             }
            },
            "type": "scatter3d"
           }
          ],
          "scattercarpet": [
           {
            "marker": {
             "colorbar": {
              "outlinewidth": 0,
              "ticks": ""
             }
            },
            "type": "scattercarpet"
           }
          ],
          "scattergeo": [
           {
            "marker": {
             "colorbar": {
              "outlinewidth": 0,
              "ticks": ""
             }
            },
            "type": "scattergeo"
           }
          ],
          "scattergl": [
           {
            "marker": {
             "colorbar": {
              "outlinewidth": 0,
              "ticks": ""
             }
            },
            "type": "scattergl"
           }
          ],
          "scattermapbox": [
           {
            "marker": {
             "colorbar": {
              "outlinewidth": 0,
              "ticks": ""
             }
            },
            "type": "scattermapbox"
           }
          ],
          "scatterpolar": [
           {
            "marker": {
             "colorbar": {
              "outlinewidth": 0,
              "ticks": ""
             }
            },
            "type": "scatterpolar"
           }
          ],
          "scatterpolargl": [
           {
            "marker": {
             "colorbar": {
              "outlinewidth": 0,
              "ticks": ""
             }
            },
            "type": "scatterpolargl"
           }
          ],
          "scatterternary": [
           {
            "marker": {
             "colorbar": {
              "outlinewidth": 0,
              "ticks": ""
             }
            },
            "type": "scatterternary"
           }
          ],
          "surface": [
           {
            "colorbar": {
             "outlinewidth": 0,
             "ticks": ""
            },
            "colorscale": [
             [
              0,
              "#0d0887"
             ],
             [
              0.1111111111111111,
              "#46039f"
             ],
             [
              0.2222222222222222,
              "#7201a8"
             ],
             [
              0.3333333333333333,
              "#9c179e"
             ],
             [
              0.4444444444444444,
              "#bd3786"
             ],
             [
              0.5555555555555556,
              "#d8576b"
             ],
             [
              0.6666666666666666,
              "#ed7953"
             ],
             [
              0.7777777777777778,
              "#fb9f3a"
             ],
             [
              0.8888888888888888,
              "#fdca26"
             ],
             [
              1,
              "#f0f921"
             ]
            ],
            "type": "surface"
           }
          ],
          "table": [
           {
            "cells": {
             "fill": {
              "color": "#EBF0F8"
             },
             "line": {
              "color": "white"
             }
            },
            "header": {
             "fill": {
              "color": "#C8D4E3"
             },
             "line": {
              "color": "white"
             }
            },
            "type": "table"
           }
          ]
         },
         "layout": {
          "annotationdefaults": {
           "arrowcolor": "#2a3f5f",
           "arrowhead": 0,
           "arrowwidth": 1
          },
          "autotypenumbers": "strict",
          "coloraxis": {
           "colorbar": {
            "outlinewidth": 0,
            "ticks": ""
           }
          },
          "colorscale": {
           "diverging": [
            [
             0,
             "#8e0152"
            ],
            [
             0.1,
             "#c51b7d"
            ],
            [
             0.2,
             "#de77ae"
            ],
            [
             0.3,
             "#f1b6da"
            ],
            [
             0.4,
             "#fde0ef"
            ],
            [
             0.5,
             "#f7f7f7"
            ],
            [
             0.6,
             "#e6f5d0"
            ],
            [
             0.7,
             "#b8e186"
            ],
            [
             0.8,
             "#7fbc41"
            ],
            [
             0.9,
             "#4d9221"
            ],
            [
             1,
             "#276419"
            ]
           ],
           "sequential": [
            [
             0,
             "#0d0887"
            ],
            [
             0.1111111111111111,
             "#46039f"
            ],
            [
             0.2222222222222222,
             "#7201a8"
            ],
            [
             0.3333333333333333,
             "#9c179e"
            ],
            [
             0.4444444444444444,
             "#bd3786"
            ],
            [
             0.5555555555555556,
             "#d8576b"
            ],
            [
             0.6666666666666666,
             "#ed7953"
            ],
            [
             0.7777777777777778,
             "#fb9f3a"
            ],
            [
             0.8888888888888888,
             "#fdca26"
            ],
            [
             1,
             "#f0f921"
            ]
           ],
           "sequentialminus": [
            [
             0,
             "#0d0887"
            ],
            [
             0.1111111111111111,
             "#46039f"
            ],
            [
             0.2222222222222222,
             "#7201a8"
            ],
            [
             0.3333333333333333,
             "#9c179e"
            ],
            [
             0.4444444444444444,
             "#bd3786"
            ],
            [
             0.5555555555555556,
             "#d8576b"
            ],
            [
             0.6666666666666666,
             "#ed7953"
            ],
            [
             0.7777777777777778,
             "#fb9f3a"
            ],
            [
             0.8888888888888888,
             "#fdca26"
            ],
            [
             1,
             "#f0f921"
            ]
           ]
          },
          "colorway": [
           "#636efa",
           "#EF553B",
           "#00cc96",
           "#ab63fa",
           "#FFA15A",
           "#19d3f3",
           "#FF6692",
           "#B6E880",
           "#FF97FF",
           "#FECB52"
          ],
          "font": {
           "color": "#2a3f5f"
          },
          "geo": {
           "bgcolor": "white",
           "lakecolor": "white",
           "landcolor": "#E5ECF6",
           "showlakes": true,
           "showland": true,
           "subunitcolor": "white"
          },
          "hoverlabel": {
           "align": "left"
          },
          "hovermode": "closest",
          "mapbox": {
           "style": "light"
          },
          "paper_bgcolor": "white",
          "plot_bgcolor": "#E5ECF6",
          "polar": {
           "angularaxis": {
            "gridcolor": "white",
            "linecolor": "white",
            "ticks": ""
           },
           "bgcolor": "#E5ECF6",
           "radialaxis": {
            "gridcolor": "white",
            "linecolor": "white",
            "ticks": ""
           }
          },
          "scene": {
           "xaxis": {
            "backgroundcolor": "#E5ECF6",
            "gridcolor": "white",
            "gridwidth": 2,
            "linecolor": "white",
            "showbackground": true,
            "ticks": "",
            "zerolinecolor": "white"
           },
           "yaxis": {
            "backgroundcolor": "#E5ECF6",
            "gridcolor": "white",
            "gridwidth": 2,
            "linecolor": "white",
            "showbackground": true,
            "ticks": "",
            "zerolinecolor": "white"
           },
           "zaxis": {
            "backgroundcolor": "#E5ECF6",
            "gridcolor": "white",
            "gridwidth": 2,
            "linecolor": "white",
            "showbackground": true,
            "ticks": "",
            "zerolinecolor": "white"
           }
          },
          "shapedefaults": {
           "line": {
            "color": "#2a3f5f"
           }
          },
          "ternary": {
           "aaxis": {
            "gridcolor": "white",
            "linecolor": "white",
            "ticks": ""
           },
           "baxis": {
            "gridcolor": "white",
            "linecolor": "white",
            "ticks": ""
           },
           "bgcolor": "#E5ECF6",
           "caxis": {
            "gridcolor": "white",
            "linecolor": "white",
            "ticks": ""
           }
          },
          "title": {
           "x": 0.05
          },
          "xaxis": {
           "automargin": true,
           "gridcolor": "white",
           "linecolor": "white",
           "ticks": "",
           "title": {
            "standoff": 15
           },
           "zerolinecolor": "white",
           "zerolinewidth": 2
          },
          "yaxis": {
           "automargin": true,
           "gridcolor": "white",
           "linecolor": "white",
           "ticks": "",
           "title": {
            "standoff": 15
           },
           "zerolinecolor": "white",
           "zerolinewidth": 2
          }
         }
        },
        "title": {
         "text": "DOT ACTUAL PRICES vs Prices Predicted",
         "x": 0.5
        },
        "xaxis": {
         "title": {
          "text": "Date"
         }
        },
        "yaxis": {
         "title": {
          "text": "PRICES"
         }
        }
       }
      }
     },
     "metadata": {},
     "output_type": "display_data"
    }
   ],
   "source": [
    "# Visualization\n",
    "fig = go.Figure()\n",
    "fig.add_trace(go.Scatter(x=df[to_row:][\"Price\"].index, y= model_predictions,\n",
    "                    mode='lines+markers',\n",
    "                    name='prices predicted data'))\n",
    "fig.add_trace(go.Scatter(x=df[to_row:][\"Price\"].index, y=df[to_row:][\"Price\"],\n",
    "                    mode='lines+markers',\n",
    "                    name='Test data'))\n",
    "# fig.add_trace(go.Scatter(x=df[to_row:][\"Close\"].index, y=df[to_row:][\"Close\"],\n",
    "#                     mode='lines+markers',\n",
    "#                     name='Test data'))\n",
    "# Edit the layout\n",
    "fig.update_layout(title='DOT ACTUAL PRICES vs Prices Predicted', title_x =0.5,\n",
    "                   xaxis_title='Date',\n",
    "                   yaxis_title='PRICES')\n",
    "\n",
    "fig.show()"
   ]
  },
  {
   "cell_type": "markdown",
   "metadata": {},
   "source": [
    "12.EVALUATE MODEL BY MAPE"
   ]
  },
  {
   "cell_type": "code",
   "execution_count": 760,
   "metadata": {},
   "outputs": [
    {
     "name": "stdout",
     "output_type": "stream",
     "text": [
      "MAPE:0.05391257179540348\n"
     ]
    }
   ],
   "source": [
    "#Evaluate model\n",
    "\n",
    "mape = np.mean(np.abs((np.array(model_predictions) - np.array(test))/np.abs(test)))\n",
    "print(\"MAPE:\"+ str(mape))"
   ]
  },
  {
   "cell_type": "markdown",
   "metadata": {},
   "source": [
    "13. RESIDUALS TEST"
   ]
  },
  {
   "cell_type": "code",
   "execution_count": 761,
   "metadata": {},
   "outputs": [
    {
     "data": {
      "image/png": "[encoded data removed]",
      "text/plain": [
       "<Figure size 1440x504 with 4 Axes>"
      ]
     },
     "metadata": {
      "needs_background": "light"
     },
     "output_type": "display_data"
    }
   ],
   "source": [
    "# Kiêm dinh độ tin cậy bằng phân tích phần dư\n",
    "def arima_diagnostics(resids, n_lags=40):\n",
    " # create placeholder subplots\n",
    " fig, ((ax1, ax2), (ax3, ax4)) = plt.subplots(2, 2)\n",
    " r = resids\n",
    " resids = (r - np.nanmean(r)) / np.nanstd(r)\n",
    " resids_nonmissing = resids[~(np.isnan(resids))]\n",
    " # residuals over time\n",
    " sns.lineplot(x=np.arange(len(resids)), y=resids, ax=ax1)\n",
    " ax1.set_title('Standardized residuals')\n",
    " # distribution of residuals\n",
    " x_lim = (-1.96 * 2, 1.96 * 2)\n",
    " r_range = np.linspace(x_lim[0], x_lim[1])\n",
    " norm_pdf = scs.norm.pdf(r_range)\n",
    " sns.distplot(resids_nonmissing, hist=True, kde=True,\n",
    " norm_hist=True, ax=ax2)\n",
    " ax2.plot(r_range, norm_pdf, 'g', lw=2, label='N(0,1)')\n",
    " ax2.set_title('Distribution of standardized residuals')\n",
    " ax2.set_xlim(x_lim)\n",
    " ax2.legend()\n",
    " # Q-Q plot\n",
    " qq = sm.qqplot(resids_nonmissing, line='s', ax=ax3)\n",
    " ax3.set_title('Q-Q plot')\n",
    "# ACF plot\n",
    " plot_acf(resids, ax=ax4, lags=n_lags, alpha=0.05)\n",
    " ax4.set_title('ACF plot')\n",
    " return plt.show()\n",
    " \n",
    "\n",
    "arima_diagnostics(model_fit.resid,40)"
   ]
  }
 ],
 "metadata": {
  "interpreter": {
   "hash": "f45841af26b7169159cc5ce89320e5a46c1d8676358fb9a90d1f7b27bf2d3495"
  },
  "kernelspec": {
   "display_name": "Python 3.9.1 64-bit",
   "language": "python",
   "name": "python3"
  },
  "language_info": {
   "codemirror_mode": {
    "name": "ipython",
    "version": 3
   },
   "file_extension": ".py",
   "mimetype": "text/x-python",
   "name": "python",
   "nbconvert_exporter": "python",
   "pygments_lexer": "ipython3",
   "version": "3.9.1"
  },
  "orig_nbformat": 4
 },
 "nbformat": 4,
 "nbformat_minor": 2
}
